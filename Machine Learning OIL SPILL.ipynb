{
 "cells": [
  {
   "cell_type": "code",
   "execution_count": 460,
   "metadata": {},
   "outputs": [],
   "source": [
    "import pandas as pd\n",
    "import numpy as np\n",
    "import matplotlib.pyplot as plt\n",
    "import seaborn as sns"
   ]
  },
  {
   "cell_type": "code",
   "execution_count": 461,
   "metadata": {},
   "outputs": [
    {
     "name": "stdout",
     "output_type": "stream",
     "text": [
      "(937, 50)\n"
     ]
    },
    {
     "data": {
      "text/html": [
       "<div>\n",
       "<style scoped>\n",
       "    .dataframe tbody tr th:only-of-type {\n",
       "        vertical-align: middle;\n",
       "    }\n",
       "\n",
       "    .dataframe tbody tr th {\n",
       "        vertical-align: top;\n",
       "    }\n",
       "\n",
       "    .dataframe thead th {\n",
       "        text-align: right;\n",
       "    }\n",
       "</style>\n",
       "<table border=\"1\" class=\"dataframe\">\n",
       "  <thead>\n",
       "    <tr style=\"text-align: right;\">\n",
       "      <th></th>\n",
       "      <th>f_1</th>\n",
       "      <th>f_2</th>\n",
       "      <th>f_3</th>\n",
       "      <th>f_4</th>\n",
       "      <th>f_5</th>\n",
       "      <th>f_6</th>\n",
       "      <th>f_7</th>\n",
       "      <th>f_8</th>\n",
       "      <th>f_9</th>\n",
       "      <th>f_10</th>\n",
       "      <th>...</th>\n",
       "      <th>f_41</th>\n",
       "      <th>f_42</th>\n",
       "      <th>f_43</th>\n",
       "      <th>f_44</th>\n",
       "      <th>f_45</th>\n",
       "      <th>f_46</th>\n",
       "      <th>f_47</th>\n",
       "      <th>f_48</th>\n",
       "      <th>f_49</th>\n",
       "      <th>target</th>\n",
       "    </tr>\n",
       "  </thead>\n",
       "  <tbody>\n",
       "    <tr>\n",
       "      <th>0</th>\n",
       "      <td>1</td>\n",
       "      <td>2558</td>\n",
       "      <td>1506.09</td>\n",
       "      <td>456.63</td>\n",
       "      <td>90</td>\n",
       "      <td>6395000</td>\n",
       "      <td>40.88</td>\n",
       "      <td>7.89</td>\n",
       "      <td>29780.0</td>\n",
       "      <td>0.19</td>\n",
       "      <td>...</td>\n",
       "      <td>2850.00</td>\n",
       "      <td>1000.00</td>\n",
       "      <td>763.16</td>\n",
       "      <td>135.46</td>\n",
       "      <td>3.73</td>\n",
       "      <td>0</td>\n",
       "      <td>33243.19</td>\n",
       "      <td>65.74</td>\n",
       "      <td>7.95</td>\n",
       "      <td>1</td>\n",
       "    </tr>\n",
       "    <tr>\n",
       "      <th>1</th>\n",
       "      <td>2</td>\n",
       "      <td>22325</td>\n",
       "      <td>79.11</td>\n",
       "      <td>841.03</td>\n",
       "      <td>180</td>\n",
       "      <td>55812500</td>\n",
       "      <td>51.11</td>\n",
       "      <td>1.21</td>\n",
       "      <td>61900.0</td>\n",
       "      <td>0.02</td>\n",
       "      <td>...</td>\n",
       "      <td>5750.00</td>\n",
       "      <td>11500.00</td>\n",
       "      <td>9593.48</td>\n",
       "      <td>1648.80</td>\n",
       "      <td>0.60</td>\n",
       "      <td>0</td>\n",
       "      <td>51572.04</td>\n",
       "      <td>65.73</td>\n",
       "      <td>6.26</td>\n",
       "      <td>0</td>\n",
       "    </tr>\n",
       "    <tr>\n",
       "      <th>2</th>\n",
       "      <td>3</td>\n",
       "      <td>115</td>\n",
       "      <td>1449.85</td>\n",
       "      <td>608.43</td>\n",
       "      <td>88</td>\n",
       "      <td>287500</td>\n",
       "      <td>40.42</td>\n",
       "      <td>7.34</td>\n",
       "      <td>3340.0</td>\n",
       "      <td>0.18</td>\n",
       "      <td>...</td>\n",
       "      <td>1400.00</td>\n",
       "      <td>250.00</td>\n",
       "      <td>150.00</td>\n",
       "      <td>45.13</td>\n",
       "      <td>9.33</td>\n",
       "      <td>1</td>\n",
       "      <td>31692.84</td>\n",
       "      <td>65.81</td>\n",
       "      <td>7.84</td>\n",
       "      <td>1</td>\n",
       "    </tr>\n",
       "    <tr>\n",
       "      <th>3</th>\n",
       "      <td>4</td>\n",
       "      <td>1201</td>\n",
       "      <td>1562.53</td>\n",
       "      <td>295.65</td>\n",
       "      <td>66</td>\n",
       "      <td>3002500</td>\n",
       "      <td>42.40</td>\n",
       "      <td>7.97</td>\n",
       "      <td>18030.0</td>\n",
       "      <td>0.19</td>\n",
       "      <td>...</td>\n",
       "      <td>6041.52</td>\n",
       "      <td>761.58</td>\n",
       "      <td>453.21</td>\n",
       "      <td>144.97</td>\n",
       "      <td>13.33</td>\n",
       "      <td>1</td>\n",
       "      <td>37696.21</td>\n",
       "      <td>65.67</td>\n",
       "      <td>8.07</td>\n",
       "      <td>1</td>\n",
       "    </tr>\n",
       "    <tr>\n",
       "      <th>4</th>\n",
       "      <td>5</td>\n",
       "      <td>312</td>\n",
       "      <td>950.27</td>\n",
       "      <td>440.86</td>\n",
       "      <td>37</td>\n",
       "      <td>780000</td>\n",
       "      <td>41.43</td>\n",
       "      <td>7.03</td>\n",
       "      <td>3350.0</td>\n",
       "      <td>0.17</td>\n",
       "      <td>...</td>\n",
       "      <td>1320.04</td>\n",
       "      <td>710.63</td>\n",
       "      <td>512.54</td>\n",
       "      <td>109.16</td>\n",
       "      <td>2.58</td>\n",
       "      <td>0</td>\n",
       "      <td>29038.17</td>\n",
       "      <td>65.66</td>\n",
       "      <td>7.35</td>\n",
       "      <td>0</td>\n",
       "    </tr>\n",
       "  </tbody>\n",
       "</table>\n",
       "<p>5 rows × 50 columns</p>\n",
       "</div>"
      ],
      "text/plain": [
       "   f_1    f_2      f_3     f_4  f_5       f_6    f_7   f_8      f_9  f_10  \\\n",
       "0    1   2558  1506.09  456.63   90   6395000  40.88  7.89  29780.0  0.19   \n",
       "1    2  22325    79.11  841.03  180  55812500  51.11  1.21  61900.0  0.02   \n",
       "2    3    115  1449.85  608.43   88    287500  40.42  7.34   3340.0  0.18   \n",
       "3    4   1201  1562.53  295.65   66   3002500  42.40  7.97  18030.0  0.19   \n",
       "4    5    312   950.27  440.86   37    780000  41.43  7.03   3350.0  0.17   \n",
       "\n",
       "   ...     f_41      f_42     f_43     f_44   f_45  f_46      f_47   f_48  \\\n",
       "0  ...  2850.00   1000.00   763.16   135.46   3.73     0  33243.19  65.74   \n",
       "1  ...  5750.00  11500.00  9593.48  1648.80   0.60     0  51572.04  65.73   \n",
       "2  ...  1400.00    250.00   150.00    45.13   9.33     1  31692.84  65.81   \n",
       "3  ...  6041.52    761.58   453.21   144.97  13.33     1  37696.21  65.67   \n",
       "4  ...  1320.04    710.63   512.54   109.16   2.58     0  29038.17  65.66   \n",
       "\n",
       "   f_49  target  \n",
       "0  7.95       1  \n",
       "1  6.26       0  \n",
       "2  7.84       1  \n",
       "3  8.07       1  \n",
       "4  7.35       0  \n",
       "\n",
       "[5 rows x 50 columns]"
      ]
     },
     "execution_count": 461,
     "metadata": {},
     "output_type": "execute_result"
    }
   ],
   "source": [
    "df = pd.read_csv('oil_spill.csv')\n",
    "print(df.shape)\n",
    "df.head()"
   ]
  },
  {
   "attachments": {},
   "cell_type": "markdown",
   "metadata": {},
   "source": [
    "There are 50 columns and 5 rows"
   ]
  },
  {
   "attachments": {},
   "cell_type": "markdown",
   "metadata": {},
   "source": [
    "#### Handling null values"
   ]
  },
  {
   "cell_type": "code",
   "execution_count": 462,
   "metadata": {},
   "outputs": [
    {
     "data": {
      "text/plain": [
       "Series([], dtype: int64)"
      ]
     },
     "execution_count": 462,
     "metadata": {},
     "output_type": "execute_result"
    }
   ],
   "source": [
    "df_null = df.isnull().sum()\n",
    "df_null = df_null[df_null > 0] \n",
    "df_null\n",
    "# there is no null values"
   ]
  },
  {
   "attachments": {},
   "cell_type": "markdown",
   "metadata": {},
   "source": [
    "#### Checking data type"
   ]
  },
  {
   "cell_type": "code",
   "execution_count": 463,
   "metadata": {},
   "outputs": [
    {
     "data": {
      "text/plain": [
       "float64    39\n",
       "int64      11\n",
       "dtype: int64"
      ]
     },
     "execution_count": 463,
     "metadata": {},
     "output_type": "execute_result"
    }
   ],
   "source": [
    "df.dtypes.value_counts()\n",
    "\n",
    "# all the data is either float or integer"
   ]
  },
  {
   "attachments": {},
   "cell_type": "markdown",
   "metadata": {},
   "source": [
    "#### Checking values of Target Column"
   ]
  },
  {
   "cell_type": "code",
   "execution_count": 464,
   "metadata": {},
   "outputs": [
    {
     "data": {
      "text/plain": [
       "0    896\n",
       "1     41\n",
       "Name: target, dtype: int64"
      ]
     },
     "execution_count": 464,
     "metadata": {},
     "output_type": "execute_result"
    }
   ],
   "source": [
    "df['target'].value_counts()"
   ]
  },
  {
   "attachments": {},
   "cell_type": "markdown",
   "metadata": {},
   "source": [
    "#### Checking Duplicated data"
   ]
  },
  {
   "cell_type": "code",
   "execution_count": 465,
   "metadata": {},
   "outputs": [
    {
     "data": {
      "text/plain": [
       "0"
      ]
     },
     "execution_count": 465,
     "metadata": {},
     "output_type": "execute_result"
    }
   ],
   "source": [
    "df.duplicated().sum()"
   ]
  },
  {
   "attachments": {},
   "cell_type": "markdown",
   "metadata": {},
   "source": [
    "#### Removing the data with high correlation"
   ]
  },
  {
   "cell_type": "code",
   "execution_count": 547,
   "metadata": {},
   "outputs": [],
   "source": [
    "a = df.corr()\n"
   ]
  },
  {
   "cell_type": "code",
   "execution_count": 550,
   "metadata": {},
   "outputs": [],
   "source": [
    "def correlation(dataset, threshold):\n",
    "    col_corr = set()                                        # creating a object (set) as there is no repetition in set\n",
    "    for i in range(len(dataset.columns)):\n",
    "        for j in range (i):\n",
    "            if (dataset.iloc[i,j]) > threshold:             #all the index having greater value than the threshold\n",
    "                colname = dataset.columns[i]                #creating object colname cosidering the columns name having greater value than threshold\n",
    "                col_corr.add(colname)                       # adding it to the set created\n",
    "    return list(col_corr)\n"
   ]
  },
  {
   "cell_type": "code",
   "execution_count": 551,
   "metadata": {},
   "outputs": [
    {
     "name": "stdout",
     "output_type": "stream",
     "text": [
      "['f_13', 'f_18', 'f_20', 'f_49', 'f_16', 'f_24', 'f_44', 'f_6', 'f_34', 'f_9', 'f_25', 'f_35', 'f_43', 'f_21', 'f_32', 'f_40', 'f_36']\n"
     ]
    }
   ],
   "source": [
    "corr_features = correlation(a, 0.85)\n",
    "print(corr_features)"
   ]
  },
  {
   "cell_type": "code",
   "execution_count": 469,
   "metadata": {},
   "outputs": [],
   "source": [
    "df1 = df.drop(['f_9', 'f_43', 'f_18', 'f_40', 'f_21', 'f_44', 'f_25', 'f_6', 'f_20', 'f_32', 'f_34', 'f_35', 'f_24', 'f_36', 'f_16', 'f_13', 'f_49'],axis=1)"
   ]
  },
  {
   "cell_type": "code",
   "execution_count": 470,
   "metadata": {},
   "outputs": [
    {
     "name": "stdout",
     "output_type": "stream",
     "text": [
      "(937, 33)\n"
     ]
    },
    {
     "data": {
      "text/html": [
       "<div>\n",
       "<style scoped>\n",
       "    .dataframe tbody tr th:only-of-type {\n",
       "        vertical-align: middle;\n",
       "    }\n",
       "\n",
       "    .dataframe tbody tr th {\n",
       "        vertical-align: top;\n",
       "    }\n",
       "\n",
       "    .dataframe thead th {\n",
       "        text-align: right;\n",
       "    }\n",
       "</style>\n",
       "<table border=\"1\" class=\"dataframe\">\n",
       "  <thead>\n",
       "    <tr style=\"text-align: right;\">\n",
       "      <th></th>\n",
       "      <th>f_1</th>\n",
       "      <th>f_2</th>\n",
       "      <th>f_3</th>\n",
       "      <th>f_4</th>\n",
       "      <th>f_5</th>\n",
       "      <th>f_7</th>\n",
       "      <th>f_8</th>\n",
       "      <th>f_10</th>\n",
       "      <th>f_11</th>\n",
       "      <th>f_12</th>\n",
       "      <th>...</th>\n",
       "      <th>f_37</th>\n",
       "      <th>f_38</th>\n",
       "      <th>f_39</th>\n",
       "      <th>f_41</th>\n",
       "      <th>f_42</th>\n",
       "      <th>f_45</th>\n",
       "      <th>f_46</th>\n",
       "      <th>f_47</th>\n",
       "      <th>f_48</th>\n",
       "      <th>target</th>\n",
       "    </tr>\n",
       "  </thead>\n",
       "  <tbody>\n",
       "    <tr>\n",
       "      <th>0</th>\n",
       "      <td>1</td>\n",
       "      <td>2558</td>\n",
       "      <td>1506.09</td>\n",
       "      <td>456.63</td>\n",
       "      <td>90</td>\n",
       "      <td>40.88</td>\n",
       "      <td>7.89</td>\n",
       "      <td>0.19</td>\n",
       "      <td>214.7</td>\n",
       "      <td>0.21</td>\n",
       "      <td>...</td>\n",
       "      <td>0.00</td>\n",
       "      <td>138.68</td>\n",
       "      <td>89</td>\n",
       "      <td>2850.00</td>\n",
       "      <td>1000.00</td>\n",
       "      <td>3.73</td>\n",
       "      <td>0</td>\n",
       "      <td>33243.19</td>\n",
       "      <td>65.74</td>\n",
       "      <td>1</td>\n",
       "    </tr>\n",
       "    <tr>\n",
       "      <th>1</th>\n",
       "      <td>2</td>\n",
       "      <td>22325</td>\n",
       "      <td>79.11</td>\n",
       "      <td>841.03</td>\n",
       "      <td>180</td>\n",
       "      <td>51.11</td>\n",
       "      <td>1.21</td>\n",
       "      <td>0.02</td>\n",
       "      <td>901.7</td>\n",
       "      <td>0.02</td>\n",
       "      <td>...</td>\n",
       "      <td>0.00</td>\n",
       "      <td>68.65</td>\n",
       "      <td>89</td>\n",
       "      <td>5750.00</td>\n",
       "      <td>11500.00</td>\n",
       "      <td>0.60</td>\n",
       "      <td>0</td>\n",
       "      <td>51572.04</td>\n",
       "      <td>65.73</td>\n",
       "      <td>0</td>\n",
       "    </tr>\n",
       "    <tr>\n",
       "      <th>2</th>\n",
       "      <td>3</td>\n",
       "      <td>115</td>\n",
       "      <td>1449.85</td>\n",
       "      <td>608.43</td>\n",
       "      <td>88</td>\n",
       "      <td>40.42</td>\n",
       "      <td>7.34</td>\n",
       "      <td>0.18</td>\n",
       "      <td>86.1</td>\n",
       "      <td>0.21</td>\n",
       "      <td>...</td>\n",
       "      <td>0.01</td>\n",
       "      <td>38.80</td>\n",
       "      <td>89</td>\n",
       "      <td>1400.00</td>\n",
       "      <td>250.00</td>\n",
       "      <td>9.33</td>\n",
       "      <td>1</td>\n",
       "      <td>31692.84</td>\n",
       "      <td>65.81</td>\n",
       "      <td>1</td>\n",
       "    </tr>\n",
       "    <tr>\n",
       "      <th>3</th>\n",
       "      <td>4</td>\n",
       "      <td>1201</td>\n",
       "      <td>1562.53</td>\n",
       "      <td>295.65</td>\n",
       "      <td>66</td>\n",
       "      <td>42.40</td>\n",
       "      <td>7.97</td>\n",
       "      <td>0.19</td>\n",
       "      <td>166.5</td>\n",
       "      <td>0.21</td>\n",
       "      <td>...</td>\n",
       "      <td>0.00</td>\n",
       "      <td>108.27</td>\n",
       "      <td>89</td>\n",
       "      <td>6041.52</td>\n",
       "      <td>761.58</td>\n",
       "      <td>13.33</td>\n",
       "      <td>1</td>\n",
       "      <td>37696.21</td>\n",
       "      <td>65.67</td>\n",
       "      <td>1</td>\n",
       "    </tr>\n",
       "    <tr>\n",
       "      <th>4</th>\n",
       "      <td>5</td>\n",
       "      <td>312</td>\n",
       "      <td>950.27</td>\n",
       "      <td>440.86</td>\n",
       "      <td>37</td>\n",
       "      <td>41.43</td>\n",
       "      <td>7.03</td>\n",
       "      <td>0.17</td>\n",
       "      <td>232.8</td>\n",
       "      <td>0.15</td>\n",
       "      <td>...</td>\n",
       "      <td>0.00</td>\n",
       "      <td>14.39</td>\n",
       "      <td>89</td>\n",
       "      <td>1320.04</td>\n",
       "      <td>710.63</td>\n",
       "      <td>2.58</td>\n",
       "      <td>0</td>\n",
       "      <td>29038.17</td>\n",
       "      <td>65.66</td>\n",
       "      <td>0</td>\n",
       "    </tr>\n",
       "  </tbody>\n",
       "</table>\n",
       "<p>5 rows × 33 columns</p>\n",
       "</div>"
      ],
      "text/plain": [
       "   f_1    f_2      f_3     f_4  f_5    f_7   f_8  f_10   f_11  f_12  ...  \\\n",
       "0    1   2558  1506.09  456.63   90  40.88  7.89  0.19  214.7  0.21  ...   \n",
       "1    2  22325    79.11  841.03  180  51.11  1.21  0.02  901.7  0.02  ...   \n",
       "2    3    115  1449.85  608.43   88  40.42  7.34  0.18   86.1  0.21  ...   \n",
       "3    4   1201  1562.53  295.65   66  42.40  7.97  0.19  166.5  0.21  ...   \n",
       "4    5    312   950.27  440.86   37  41.43  7.03  0.17  232.8  0.15  ...   \n",
       "\n",
       "   f_37    f_38  f_39     f_41      f_42   f_45  f_46      f_47   f_48  target  \n",
       "0  0.00  138.68    89  2850.00   1000.00   3.73     0  33243.19  65.74       1  \n",
       "1  0.00   68.65    89  5750.00  11500.00   0.60     0  51572.04  65.73       0  \n",
       "2  0.01   38.80    89  1400.00    250.00   9.33     1  31692.84  65.81       1  \n",
       "3  0.00  108.27    89  6041.52    761.58  13.33     1  37696.21  65.67       1  \n",
       "4  0.00   14.39    89  1320.04    710.63   2.58     0  29038.17  65.66       0  \n",
       "\n",
       "[5 rows x 33 columns]"
      ]
     },
     "execution_count": 470,
     "metadata": {},
     "output_type": "execute_result"
    }
   ],
   "source": [
    "print(df1.shape)\n",
    "df1.head(5)"
   ]
  },
  {
   "attachments": {},
   "cell_type": "markdown",
   "metadata": {},
   "source": [
    "#### Selecting dependent(y) and independent(x) values"
   ]
  },
  {
   "cell_type": "code",
   "execution_count": 471,
   "metadata": {},
   "outputs": [
    {
     "name": "stdout",
     "output_type": "stream",
     "text": [
      "(937, 32)\n",
      "(937,)\n"
     ]
    }
   ],
   "source": [
    "x= df1.drop([\"target\"], axis=1)\n",
    "y= df1.target\n",
    "\n",
    "print(x.shape)\n",
    "print(y.shape)"
   ]
  },
  {
   "attachments": {},
   "cell_type": "markdown",
   "metadata": {},
   "source": [
    "#### Scaling "
   ]
  },
  {
   "cell_type": "code",
   "execution_count": 472,
   "metadata": {},
   "outputs": [],
   "source": [
    "from sklearn.preprocessing import MinMaxScaler\n",
    "mmsc = MinMaxScaler()"
   ]
  },
  {
   "cell_type": "code",
   "execution_count": 473,
   "metadata": {},
   "outputs": [],
   "source": [
    "x_scaled = mmsc.fit_transform(x)"
   ]
  },
  {
   "attachments": {},
   "cell_type": "markdown",
   "metadata": {},
   "source": [
    "#### Splitting the data into train and test "
   ]
  },
  {
   "cell_type": "code",
   "execution_count": 474,
   "metadata": {},
   "outputs": [],
   "source": [
    "from sklearn.model_selection import train_test_split\n",
    "x_train,x_test,y_train,y_test = train_test_split(x_scaled,y,test_size=0.25,random_state=20)"
   ]
  },
  {
   "cell_type": "code",
   "execution_count": 475,
   "metadata": {},
   "outputs": [
    {
     "name": "stdout",
     "output_type": "stream",
     "text": [
      "(702, 32) (702,)\n",
      "(235, 32) (235,)\n"
     ]
    }
   ],
   "source": [
    "print(x_train.shape,y_train.shape)\n",
    "print(x_test.shape,y_test.shape)"
   ]
  },
  {
   "attachments": {},
   "cell_type": "markdown",
   "metadata": {},
   "source": [
    "#### Import libraries and creating function for model evaluation"
   ]
  },
  {
   "cell_type": "code",
   "execution_count": 476,
   "metadata": {},
   "outputs": [],
   "source": [
    "from sklearn.metrics import confusion_matrix, accuracy_score, classification_report"
   ]
  },
  {
   "cell_type": "code",
   "execution_count": 477,
   "metadata": {},
   "outputs": [],
   "source": [
    "def eval_model(y_test,ypred):\n",
    "    print('Confusion Matrix:\\n', confusion_matrix(y_test,ypred))\n",
    "    print('Classification Report:\\n', classification_report(y_test,ypred))\n",
    "    print('Accuracy Score:', accuracy_score(y_test,ypred))\n",
    "\n",
    "def mscore(model):\n",
    "    print('Training Score =', model.score(x_train,y_train))\n",
    "    print('Testing Score =', model.score(x_test,y_test))"
   ]
  },
  {
   "attachments": {},
   "cell_type": "markdown",
   "metadata": {},
   "source": [
    "#### Trying Logistic Regression"
   ]
  },
  {
   "cell_type": "code",
   "execution_count": 478,
   "metadata": {},
   "outputs": [],
   "source": [
    "from sklearn.linear_model import LogisticRegression\n",
    "lr = LogisticRegression(max_iter=1000 ,solver='liblinear',)"
   ]
  },
  {
   "attachments": {},
   "cell_type": "markdown",
   "metadata": {},
   "source": [
    "Training, Predicting and Evaluating data"
   ]
  },
  {
   "cell_type": "code",
   "execution_count": 479,
   "metadata": {},
   "outputs": [
    {
     "data": {
      "text/plain": [
       "LogisticRegression(max_iter=1000, solver='liblinear')"
      ]
     },
     "execution_count": 479,
     "metadata": {},
     "output_type": "execute_result"
    }
   ],
   "source": [
    "lr.fit(x_train,y_train)"
   ]
  },
  {
   "cell_type": "code",
   "execution_count": 480,
   "metadata": {},
   "outputs": [
    {
     "data": {
      "text/plain": [
       "array([0, 0, 0, 0, 0, 0, 0, 0, 0, 0, 0, 0, 0, 0, 0, 0, 0, 0, 0, 0, 0, 0,\n",
       "       0, 0, 0, 0, 0, 0, 0, 0, 0, 0, 0, 0, 0, 0, 0, 0, 0, 0, 0, 0, 0, 0,\n",
       "       0, 0, 0, 0, 0, 0, 0, 0, 0, 0, 0, 0, 0, 0, 0, 0, 0, 0, 0, 0, 0, 0,\n",
       "       0, 0, 0, 0, 0, 0, 0, 0, 0, 0, 0, 0, 0, 0, 0, 0, 0, 0, 0, 0, 0, 0,\n",
       "       0, 0, 0, 0, 0, 0, 0, 0, 0, 0, 0, 0, 0, 0, 0, 0, 0, 0, 0, 0, 0, 0,\n",
       "       0, 0, 0, 0, 1, 0, 0, 0, 0, 0, 0, 0, 0, 0, 0, 0, 0, 0, 0, 0, 0, 0,\n",
       "       0, 0, 0, 0, 0, 0, 0, 0, 0, 0, 0, 0, 0, 0, 0, 0, 0, 0, 0, 0, 0, 0,\n",
       "       0, 0, 0, 0, 0, 0, 0, 0, 0, 0, 0, 0, 0, 0, 0, 0, 0, 0, 0, 0, 0, 0,\n",
       "       0, 0, 0, 0, 0, 0, 0, 0, 0, 0, 0, 0, 0, 0, 0, 0, 0, 0, 0, 0, 0, 0,\n",
       "       0, 0, 0, 0, 0, 0, 0, 0, 0, 0, 0, 0, 0, 0, 0, 0, 0, 0, 0, 0, 0, 0,\n",
       "       0, 0, 0, 0, 0, 0, 0, 0, 0, 0, 0, 0, 0, 0, 0], dtype=int64)"
      ]
     },
     "execution_count": 480,
     "metadata": {},
     "output_type": "execute_result"
    }
   ],
   "source": [
    "ypred_lr = lr.predict(x_test)\n",
    "ypred_lr"
   ]
  },
  {
   "cell_type": "code",
   "execution_count": 481,
   "metadata": {},
   "outputs": [
    {
     "name": "stdout",
     "output_type": "stream",
     "text": [
      "Training Score = 0.9658119658119658\n",
      "Testing Score = 0.9319148936170213\n"
     ]
    }
   ],
   "source": [
    "mscore(lr)"
   ]
  },
  {
   "cell_type": "code",
   "execution_count": 482,
   "metadata": {},
   "outputs": [
    {
     "name": "stdout",
     "output_type": "stream",
     "text": [
      "Confusion Matrix:\n",
      " [[218   0]\n",
      " [ 16   1]]\n",
      "Classification Report:\n",
      "               precision    recall  f1-score   support\n",
      "\n",
      "           0       0.93      1.00      0.96       218\n",
      "           1       1.00      0.06      0.11        17\n",
      "\n",
      "    accuracy                           0.93       235\n",
      "   macro avg       0.97      0.53      0.54       235\n",
      "weighted avg       0.94      0.93      0.90       235\n",
      "\n",
      "Accuracy Score: 0.9319148936170213\n"
     ]
    }
   ],
   "source": [
    "eval_model(y_test,ypred_lr)"
   ]
  },
  {
   "attachments": {},
   "cell_type": "markdown",
   "metadata": {},
   "source": [
    "#### Trying Decision Tree Classifier"
   ]
  },
  {
   "cell_type": "code",
   "execution_count": 483,
   "metadata": {},
   "outputs": [],
   "source": [
    "from sklearn.tree import DecisionTreeClassifier"
   ]
  },
  {
   "cell_type": "code",
   "execution_count": 484,
   "metadata": {},
   "outputs": [
    {
     "data": {
      "text/plain": [
       "DecisionTreeClassifier(max_depth=20, min_samples_split=15)"
      ]
     },
     "execution_count": 484,
     "metadata": {},
     "output_type": "execute_result"
    }
   ],
   "source": [
    "dtc = DecisionTreeClassifier(criterion='gini',max_depth=20,min_samples_split=15)\n",
    "dtc.fit(x_train,y_train)"
   ]
  },
  {
   "cell_type": "code",
   "execution_count": 485,
   "metadata": {},
   "outputs": [
    {
     "data": {
      "text/plain": [
       "array([0, 0, 0, 0, 0, 1, 0, 0, 0, 0, 1, 0, 0, 0, 0, 0, 0, 0, 0, 0, 0, 0,\n",
       "       0, 0, 0, 0, 0, 0, 0, 1, 0, 0, 0, 0, 0, 0, 0, 0, 0, 0, 0, 0, 0, 0,\n",
       "       0, 0, 0, 0, 0, 0, 0, 0, 0, 0, 0, 0, 0, 0, 0, 0, 0, 0, 0, 0, 0, 0,\n",
       "       0, 0, 0, 0, 0, 0, 0, 0, 0, 0, 0, 0, 0, 0, 0, 0, 0, 0, 0, 0, 0, 0,\n",
       "       0, 0, 0, 0, 0, 0, 0, 0, 0, 1, 0, 0, 0, 0, 0, 0, 0, 0, 0, 0, 0, 0,\n",
       "       0, 0, 0, 0, 1, 0, 0, 0, 0, 0, 0, 0, 0, 0, 0, 0, 0, 0, 0, 0, 0, 0,\n",
       "       0, 0, 0, 0, 0, 0, 0, 0, 0, 0, 0, 0, 0, 0, 0, 0, 0, 0, 0, 0, 0, 0,\n",
       "       0, 0, 0, 0, 0, 0, 0, 0, 0, 1, 0, 0, 0, 0, 0, 0, 0, 0, 0, 0, 0, 0,\n",
       "       0, 0, 0, 0, 0, 0, 0, 0, 1, 0, 1, 1, 0, 0, 0, 0, 1, 0, 0, 0, 0, 0,\n",
       "       0, 0, 0, 0, 0, 0, 0, 0, 0, 0, 0, 0, 0, 0, 0, 0, 0, 0, 0, 0, 0, 0,\n",
       "       0, 0, 0, 0, 0, 0, 0, 0, 0, 0, 0, 0, 0, 0, 0], dtype=int64)"
      ]
     },
     "execution_count": 485,
     "metadata": {},
     "output_type": "execute_result"
    }
   ],
   "source": [
    "ypred_dtc = dtc.predict(x_test)\n",
    "ypred_dtc"
   ]
  },
  {
   "cell_type": "code",
   "execution_count": 486,
   "metadata": {},
   "outputs": [
    {
     "name": "stdout",
     "output_type": "stream",
     "text": [
      "Training Score = 0.9843304843304843\n",
      "Testing Score = 0.9446808510638298\n"
     ]
    }
   ],
   "source": [
    "mscore(dtc)"
   ]
  },
  {
   "cell_type": "code",
   "execution_count": 487,
   "metadata": {},
   "outputs": [
    {
     "name": "stdout",
     "output_type": "stream",
     "text": [
      "Confusion Matrix:\n",
      " [[215   3]\n",
      " [ 10   7]]\n",
      "Classification Report:\n",
      "               precision    recall  f1-score   support\n",
      "\n",
      "           0       0.96      0.99      0.97       218\n",
      "           1       0.70      0.41      0.52        17\n",
      "\n",
      "    accuracy                           0.94       235\n",
      "   macro avg       0.83      0.70      0.74       235\n",
      "weighted avg       0.94      0.94      0.94       235\n",
      "\n",
      "Accuracy Score: 0.9446808510638298\n"
     ]
    }
   ],
   "source": [
    "eval_model(y_test,ypred_dtc)"
   ]
  },
  {
   "attachments": {},
   "cell_type": "markdown",
   "metadata": {},
   "source": [
    "Plotting the Tree"
   ]
  },
  {
   "cell_type": "code",
   "execution_count": 488,
   "metadata": {},
   "outputs": [],
   "source": [
    "from sklearn.tree import plot_tree"
   ]
  },
  {
   "cell_type": "code",
   "execution_count": 489,
   "metadata": {},
   "outputs": [
    {
     "name": "stdout",
     "output_type": "stream",
     "text": [
      "['0', '1']\n",
      "Index(['f_1', 'f_2', 'f_3', 'f_4', 'f_5', 'f_7', 'f_8', 'f_10', 'f_11', 'f_12',\n",
      "       'f_14', 'f_15', 'f_17', 'f_19', 'f_22', 'f_23', 'f_26', 'f_27', 'f_28',\n",
      "       'f_29', 'f_30', 'f_31', 'f_33', 'f_37', 'f_38', 'f_39', 'f_41', 'f_42',\n",
      "       'f_45', 'f_46', 'f_47', 'f_48'],\n",
      "      dtype='object')\n"
     ]
    }
   ],
   "source": [
    "cn = ['0','1']\n",
    "fn = x.columns\n",
    "print(cn)\n",
    "print(fn)"
   ]
  },
  {
   "cell_type": "code",
   "execution_count": 490,
   "metadata": {},
   "outputs": [
    {
     "data": {
      "image/png": "[encoded data removed]",
      "text/plain": [
       "<Figure size 640x480 with 1 Axes>"
      ]
     },
     "metadata": {},
     "output_type": "display_data"
    }
   ],
   "source": [
    "plot_tree(dtc,class_names=cn,feature_names=fn,filled=True)\n",
    "plt.show()"
   ]
  },
  {
   "attachments": {},
   "cell_type": "markdown",
   "metadata": {},
   "source": [
    "#### Trying Random Forest"
   ]
  },
  {
   "cell_type": "code",
   "execution_count": 491,
   "metadata": {},
   "outputs": [],
   "source": [
    "from sklearn.ensemble import RandomForestClassifier"
   ]
  },
  {
   "cell_type": "code",
   "execution_count": 492,
   "metadata": {},
   "outputs": [
    {
     "data": {
      "text/plain": [
       "RandomForestClassifier(max_depth=15, min_samples_split=20, n_estimators=50)"
      ]
     },
     "execution_count": 492,
     "metadata": {},
     "output_type": "execute_result"
    }
   ],
   "source": [
    "rf = RandomForestClassifier(n_estimators=50,criterion='gini',min_samples_split=20,max_depth=15)\n",
    "rf.fit(x_train,y_train)"
   ]
  },
  {
   "cell_type": "code",
   "execution_count": 493,
   "metadata": {},
   "outputs": [
    {
     "data": {
      "text/plain": [
       "array([0, 0, 0, 0, 0, 0, 0, 0, 0, 0, 0, 0, 0, 0, 0, 0, 0, 0, 0, 0, 0, 0,\n",
       "       0, 0, 0, 0, 0, 0, 0, 0, 0, 0, 0, 0, 0, 0, 0, 0, 0, 0, 0, 0, 0, 0,\n",
       "       0, 0, 0, 0, 0, 0, 0, 0, 0, 0, 0, 0, 0, 0, 0, 0, 0, 0, 0, 0, 0, 0,\n",
       "       0, 0, 0, 0, 0, 0, 0, 0, 0, 0, 0, 0, 0, 0, 0, 0, 0, 0, 0, 0, 0, 0,\n",
       "       0, 0, 0, 0, 0, 0, 0, 0, 0, 0, 0, 0, 0, 0, 0, 0, 0, 0, 0, 0, 0, 0,\n",
       "       0, 0, 0, 0, 0, 0, 0, 0, 0, 0, 0, 0, 0, 0, 0, 0, 0, 0, 0, 0, 0, 0,\n",
       "       0, 0, 0, 0, 0, 0, 0, 0, 0, 0, 0, 0, 0, 0, 0, 0, 0, 0, 0, 0, 0, 0,\n",
       "       0, 0, 0, 0, 0, 0, 0, 0, 0, 0, 0, 0, 0, 0, 0, 0, 0, 0, 0, 0, 0, 0,\n",
       "       0, 0, 0, 0, 0, 0, 0, 0, 0, 0, 0, 0, 0, 0, 0, 0, 0, 0, 0, 0, 0, 0,\n",
       "       0, 0, 0, 0, 0, 0, 0, 0, 0, 0, 0, 0, 0, 0, 0, 0, 0, 0, 0, 0, 0, 0,\n",
       "       0, 0, 0, 0, 0, 0, 0, 0, 0, 0, 0, 0, 0, 0, 0], dtype=int64)"
      ]
     },
     "execution_count": 493,
     "metadata": {},
     "output_type": "execute_result"
    }
   ],
   "source": [
    "ypred_rf = rf.predict(x_test)\n",
    "ypred_rf"
   ]
  },
  {
   "cell_type": "code",
   "execution_count": 494,
   "metadata": {},
   "outputs": [
    {
     "name": "stdout",
     "output_type": "stream",
     "text": [
      "Training Score = 0.9715099715099715\n",
      "Testing Score = 0.9276595744680851\n"
     ]
    }
   ],
   "source": [
    "mscore(rf)"
   ]
  },
  {
   "cell_type": "code",
   "execution_count": 495,
   "metadata": {},
   "outputs": [
    {
     "name": "stdout",
     "output_type": "stream",
     "text": [
      "Confusion Matrix:\n",
      " [[218   0]\n",
      " [ 17   0]]\n",
      "Classification Report:\n",
      "               precision    recall  f1-score   support\n",
      "\n",
      "           0       0.93      1.00      0.96       218\n",
      "           1       0.00      0.00      0.00        17\n",
      "\n",
      "    accuracy                           0.93       235\n",
      "   macro avg       0.46      0.50      0.48       235\n",
      "weighted avg       0.86      0.93      0.89       235\n",
      "\n",
      "Accuracy Score: 0.9276595744680851\n"
     ]
    },
    {
     "name": "stderr",
     "output_type": "stream",
     "text": [
      "c:\\Users\\user\\anaconda3\\lib\\site-packages\\sklearn\\metrics\\_classification.py:1318: UndefinedMetricWarning: Precision and F-score are ill-defined and being set to 0.0 in labels with no predicted samples. Use `zero_division` parameter to control this behavior.\n",
      "  _warn_prf(average, modifier, msg_start, len(result))\n",
      "c:\\Users\\user\\anaconda3\\lib\\site-packages\\sklearn\\metrics\\_classification.py:1318: UndefinedMetricWarning: Precision and F-score are ill-defined and being set to 0.0 in labels with no predicted samples. Use `zero_division` parameter to control this behavior.\n",
      "  _warn_prf(average, modifier, msg_start, len(result))\n",
      "c:\\Users\\user\\anaconda3\\lib\\site-packages\\sklearn\\metrics\\_classification.py:1318: UndefinedMetricWarning: Precision and F-score are ill-defined and being set to 0.0 in labels with no predicted samples. Use `zero_division` parameter to control this behavior.\n",
      "  _warn_prf(average, modifier, msg_start, len(result))\n"
     ]
    }
   ],
   "source": [
    "eval_model(y_test,ypred_rf)"
   ]
  },
  {
   "attachments": {},
   "cell_type": "markdown",
   "metadata": {},
   "source": [
    "#### Trying Bagging Classifier on Decision Tree"
   ]
  },
  {
   "cell_type": "code",
   "execution_count": 496,
   "metadata": {},
   "outputs": [],
   "source": [
    "from sklearn.ensemble import BaggingClassifier"
   ]
  },
  {
   "cell_type": "code",
   "execution_count": 497,
   "metadata": {},
   "outputs": [],
   "source": [
    "dtree = DecisionTreeClassifier(criterion='gini',min_samples_split=20,max_depth=10)\n",
    "bg_dt = BaggingClassifier(base_estimator=dtree, n_estimators=15)"
   ]
  },
  {
   "cell_type": "code",
   "execution_count": 498,
   "metadata": {},
   "outputs": [
    {
     "data": {
      "text/plain": [
       "BaggingClassifier(base_estimator=DecisionTreeClassifier(max_depth=10,\n",
       "                                                        min_samples_split=20),\n",
       "                  n_estimators=15)"
      ]
     },
     "execution_count": 498,
     "metadata": {},
     "output_type": "execute_result"
    }
   ],
   "source": [
    "bg_dt.fit(x_train,y_train)"
   ]
  },
  {
   "cell_type": "code",
   "execution_count": 499,
   "metadata": {},
   "outputs": [
    {
     "name": "stdout",
     "output_type": "stream",
     "text": [
      "Training Score = 0.9729344729344729\n",
      "Testing Score = 0.9319148936170213\n"
     ]
    }
   ],
   "source": [
    "mscore(bg_dt)"
   ]
  },
  {
   "cell_type": "code",
   "execution_count": 500,
   "metadata": {},
   "outputs": [
    {
     "data": {
      "text/plain": [
       "array([0, 0, 0, 0, 0, 0, 0, 0, 0, 0, 1, 0, 0, 0, 0, 0, 0, 0, 0, 0, 0, 0,\n",
       "       0, 0, 0, 0, 0, 0, 0, 1, 0, 0, 0, 0, 0, 0, 0, 0, 0, 0, 0, 0, 0, 0,\n",
       "       0, 0, 0, 0, 0, 0, 0, 0, 0, 0, 0, 0, 0, 0, 0, 0, 0, 0, 0, 0, 0, 0,\n",
       "       0, 0, 0, 0, 0, 0, 0, 0, 0, 0, 0, 0, 0, 0, 0, 0, 0, 0, 0, 0, 0, 0,\n",
       "       0, 0, 0, 0, 0, 0, 0, 0, 0, 0, 0, 0, 0, 0, 0, 0, 0, 0, 1, 0, 0, 0,\n",
       "       0, 0, 0, 0, 1, 0, 0, 0, 0, 0, 0, 0, 0, 0, 0, 0, 0, 0, 0, 0, 0, 0,\n",
       "       0, 0, 0, 0, 0, 0, 0, 0, 0, 0, 0, 0, 0, 0, 0, 0, 0, 0, 0, 0, 0, 0,\n",
       "       0, 0, 0, 0, 0, 0, 0, 0, 0, 0, 0, 0, 0, 0, 0, 0, 0, 0, 0, 0, 0, 0,\n",
       "       0, 0, 0, 0, 0, 0, 0, 0, 0, 0, 0, 1, 0, 0, 0, 0, 0, 0, 0, 0, 0, 0,\n",
       "       0, 0, 0, 0, 0, 0, 0, 0, 0, 0, 0, 0, 0, 0, 0, 0, 0, 0, 0, 0, 0, 0,\n",
       "       0, 0, 0, 0, 0, 0, 0, 0, 0, 0, 0, 0, 0, 0, 0], dtype=int64)"
      ]
     },
     "execution_count": 500,
     "metadata": {},
     "output_type": "execute_result"
    }
   ],
   "source": [
    "ypred_bgdt = bg_dt.predict(x_test)\n",
    "ypred_bgdt"
   ]
  },
  {
   "cell_type": "code",
   "execution_count": 501,
   "metadata": {},
   "outputs": [
    {
     "name": "stdout",
     "output_type": "stream",
     "text": [
      "Confusion Matrix:\n",
      " [[216   2]\n",
      " [ 14   3]]\n",
      "Classification Report:\n",
      "               precision    recall  f1-score   support\n",
      "\n",
      "           0       0.94      0.99      0.96       218\n",
      "           1       0.60      0.18      0.27        17\n",
      "\n",
      "    accuracy                           0.93       235\n",
      "   macro avg       0.77      0.58      0.62       235\n",
      "weighted avg       0.91      0.93      0.91       235\n",
      "\n",
      "Accuracy Score: 0.9319148936170213\n"
     ]
    }
   ],
   "source": [
    "eval_model(y_test,ypred_bgdt)"
   ]
  },
  {
   "attachments": {},
   "cell_type": "markdown",
   "metadata": {},
   "source": [
    "#### Trying Adaboost Classifier on Decision Tree"
   ]
  },
  {
   "cell_type": "code",
   "execution_count": 502,
   "metadata": {},
   "outputs": [],
   "source": [
    "from sklearn.ensemble import AdaBoostClassifier"
   ]
  },
  {
   "cell_type": "code",
   "execution_count": 503,
   "metadata": {},
   "outputs": [],
   "source": [
    "dtree_1 = DecisionTreeClassifier(criterion=\"entropy\",min_samples_split=15,max_depth=10)\n",
    "adbc = AdaBoostClassifier(base_estimator=dtree_1,n_estimators=30)"
   ]
  },
  {
   "cell_type": "code",
   "execution_count": 504,
   "metadata": {},
   "outputs": [
    {
     "data": {
      "text/plain": [
       "AdaBoostClassifier(base_estimator=DecisionTreeClassifier(criterion='entropy',\n",
       "                                                         max_depth=10,\n",
       "                                                         min_samples_split=15),\n",
       "                   n_estimators=30)"
      ]
     },
     "execution_count": 504,
     "metadata": {},
     "output_type": "execute_result"
    }
   ],
   "source": [
    "adbc.fit(x_train,y_train)"
   ]
  },
  {
   "cell_type": "code",
   "execution_count": 505,
   "metadata": {},
   "outputs": [
    {
     "data": {
      "text/plain": [
       "array([0, 0, 0, 0, 0, 0, 0, 0, 0, 0, 0, 0, 0, 0, 0, 0, 0, 0, 0, 0, 0, 0,\n",
       "       0, 0, 0, 0, 0, 0, 0, 1, 0, 0, 0, 0, 0, 0, 0, 0, 0, 0, 0, 0, 0, 0,\n",
       "       0, 0, 0, 0, 0, 0, 0, 0, 0, 0, 0, 0, 0, 0, 0, 0, 0, 0, 0, 0, 0, 0,\n",
       "       0, 0, 0, 0, 0, 0, 0, 0, 0, 0, 0, 0, 0, 0, 0, 0, 0, 0, 0, 0, 0, 0,\n",
       "       0, 0, 0, 0, 0, 0, 0, 0, 0, 1, 0, 0, 0, 0, 0, 0, 0, 0, 0, 0, 0, 0,\n",
       "       0, 0, 0, 0, 0, 0, 0, 0, 0, 0, 0, 0, 0, 0, 0, 0, 0, 0, 0, 0, 0, 0,\n",
       "       0, 0, 0, 0, 0, 0, 0, 0, 0, 0, 0, 0, 0, 0, 0, 0, 0, 0, 0, 0, 0, 0,\n",
       "       0, 0, 0, 0, 0, 0, 0, 0, 0, 0, 0, 0, 0, 0, 0, 0, 0, 0, 0, 0, 0, 0,\n",
       "       0, 0, 0, 0, 0, 1, 0, 0, 0, 0, 0, 0, 0, 0, 0, 0, 0, 0, 0, 0, 0, 0,\n",
       "       0, 0, 0, 0, 0, 0, 0, 0, 0, 0, 0, 0, 0, 0, 0, 0, 0, 0, 0, 0, 0, 0,\n",
       "       0, 0, 0, 0, 0, 0, 0, 0, 1, 0, 0, 0, 0, 0, 0], dtype=int64)"
      ]
     },
     "execution_count": 505,
     "metadata": {},
     "output_type": "execute_result"
    }
   ],
   "source": [
    "ypred_adbc = adbc.predict(x_test)\n",
    "ypred_adbc"
   ]
  },
  {
   "cell_type": "code",
   "execution_count": 506,
   "metadata": {},
   "outputs": [
    {
     "name": "stdout",
     "output_type": "stream",
     "text": [
      "Training Score = 1.0\n",
      "Testing Score = 0.9446808510638298\n"
     ]
    }
   ],
   "source": [
    "mscore(adbc)"
   ]
  },
  {
   "cell_type": "code",
   "execution_count": 507,
   "metadata": {},
   "outputs": [
    {
     "name": "stdout",
     "output_type": "stream",
     "text": [
      "Confusion Matrix:\n",
      " [[218   0]\n",
      " [ 13   4]]\n",
      "Classification Report:\n",
      "               precision    recall  f1-score   support\n",
      "\n",
      "           0       0.94      1.00      0.97       218\n",
      "           1       1.00      0.24      0.38        17\n",
      "\n",
      "    accuracy                           0.94       235\n",
      "   macro avg       0.97      0.62      0.68       235\n",
      "weighted avg       0.95      0.94      0.93       235\n",
      "\n",
      "Accuracy Score: 0.9446808510638298\n"
     ]
    }
   ],
   "source": [
    "eval_model(y_test,ypred_adbc)"
   ]
  },
  {
   "attachments": {},
   "cell_type": "markdown",
   "metadata": {},
   "source": [
    "#### Checking the best Model"
   ]
  },
  {
   "cell_type": "code",
   "execution_count": 508,
   "metadata": {},
   "outputs": [
    {
     "data": {
      "text/html": [
       "<div>\n",
       "<style scoped>\n",
       "    .dataframe tbody tr th:only-of-type {\n",
       "        vertical-align: middle;\n",
       "    }\n",
       "\n",
       "    .dataframe tbody tr th {\n",
       "        vertical-align: top;\n",
       "    }\n",
       "\n",
       "    .dataframe thead th {\n",
       "        text-align: right;\n",
       "    }\n",
       "</style>\n",
       "<table border=\"1\" class=\"dataframe\">\n",
       "  <thead>\n",
       "    <tr style=\"text-align: right;\">\n",
       "      <th></th>\n",
       "      <th>Accuracy</th>\n",
       "    </tr>\n",
       "  </thead>\n",
       "  <tbody>\n",
       "    <tr>\n",
       "      <th>LogReg</th>\n",
       "      <td>0.931915</td>\n",
       "    </tr>\n",
       "    <tr>\n",
       "      <th>Decision Tree</th>\n",
       "      <td>0.944681</td>\n",
       "    </tr>\n",
       "    <tr>\n",
       "      <th>Random Forest</th>\n",
       "      <td>0.927660</td>\n",
       "    </tr>\n",
       "    <tr>\n",
       "      <th>Bagging</th>\n",
       "      <td>0.931915</td>\n",
       "    </tr>\n",
       "    <tr>\n",
       "      <th>Adaboost</th>\n",
       "      <td>0.944681</td>\n",
       "    </tr>\n",
       "  </tbody>\n",
       "</table>\n",
       "</div>"
      ],
      "text/plain": [
       "               Accuracy\n",
       "LogReg         0.931915\n",
       "Decision Tree  0.944681\n",
       "Random Forest  0.927660\n",
       "Bagging        0.931915\n",
       "Adaboost       0.944681"
      ]
     },
     "execution_count": 508,
     "metadata": {},
     "output_type": "execute_result"
    }
   ],
   "source": [
    "performance = {'LogReg' : accuracy_score(y_test,ypred_lr),\n",
    "                  'Decision Tree' : accuracy_score(y_test,ypred_dtc),\n",
    "                  'Random Forest' : accuracy_score(y_test,ypred_rf),\n",
    "                  'Bagging' : accuracy_score(y_test,ypred_bgdt),\n",
    "                  'Adaboost' : accuracy_score(y_test,ypred_adbc)}\n",
    "\n",
    "\n",
    "result = pd.DataFrame(performance,index=['Accuracy'])\n",
    "result.T    #transpose"
   ]
  },
  {
   "attachments": {},
   "cell_type": "markdown",
   "metadata": {},
   "source": [
    "#### Getting Decision Tree Clasifier as the best Model"
   ]
  },
  {
   "attachments": {},
   "cell_type": "markdown",
   "metadata": {},
   "source": [
    "#### Saving the Model"
   ]
  },
  {
   "cell_type": "code",
   "execution_count": 509,
   "metadata": {},
   "outputs": [],
   "source": [
    "# import the library\n",
    "import pickle"
   ]
  },
  {
   "cell_type": "code",
   "execution_count": 511,
   "metadata": {},
   "outputs": [],
   "source": [
    "pickle.dump(dtc, open('Decision_Tree.pkl','wb'))    #wb = write binary"
   ]
  },
  {
   "attachments": {},
   "cell_type": "markdown",
   "metadata": {},
   "source": [
    "#### Selecting 20 random data point"
   ]
  },
  {
   "cell_type": "code",
   "execution_count": 513,
   "metadata": {},
   "outputs": [
    {
     "data": {
      "text/html": [
       "<div>\n",
       "<style scoped>\n",
       "    .dataframe tbody tr th:only-of-type {\n",
       "        vertical-align: middle;\n",
       "    }\n",
       "\n",
       "    .dataframe tbody tr th {\n",
       "        vertical-align: top;\n",
       "    }\n",
       "\n",
       "    .dataframe thead th {\n",
       "        text-align: right;\n",
       "    }\n",
       "</style>\n",
       "<table border=\"1\" class=\"dataframe\">\n",
       "  <thead>\n",
       "    <tr style=\"text-align: right;\">\n",
       "      <th></th>\n",
       "      <th>f_1</th>\n",
       "      <th>f_2</th>\n",
       "      <th>f_3</th>\n",
       "      <th>f_4</th>\n",
       "      <th>f_5</th>\n",
       "      <th>f_6</th>\n",
       "      <th>f_7</th>\n",
       "      <th>f_8</th>\n",
       "      <th>f_9</th>\n",
       "      <th>f_10</th>\n",
       "      <th>...</th>\n",
       "      <th>f_41</th>\n",
       "      <th>f_42</th>\n",
       "      <th>f_43</th>\n",
       "      <th>f_44</th>\n",
       "      <th>f_45</th>\n",
       "      <th>f_46</th>\n",
       "      <th>f_47</th>\n",
       "      <th>f_48</th>\n",
       "      <th>f_49</th>\n",
       "      <th>target</th>\n",
       "    </tr>\n",
       "  </thead>\n",
       "  <tbody>\n",
       "    <tr>\n",
       "      <th>0</th>\n",
       "      <td>1</td>\n",
       "      <td>2558</td>\n",
       "      <td>1506.09</td>\n",
       "      <td>456.63</td>\n",
       "      <td>90</td>\n",
       "      <td>6395000</td>\n",
       "      <td>40.88</td>\n",
       "      <td>7.89</td>\n",
       "      <td>29780.0</td>\n",
       "      <td>0.19</td>\n",
       "      <td>...</td>\n",
       "      <td>2850.00</td>\n",
       "      <td>1000.00</td>\n",
       "      <td>763.16</td>\n",
       "      <td>135.46</td>\n",
       "      <td>3.73</td>\n",
       "      <td>0</td>\n",
       "      <td>33243.19</td>\n",
       "      <td>65.74</td>\n",
       "      <td>7.95</td>\n",
       "      <td>1</td>\n",
       "    </tr>\n",
       "    <tr>\n",
       "      <th>1</th>\n",
       "      <td>2</td>\n",
       "      <td>22325</td>\n",
       "      <td>79.11</td>\n",
       "      <td>841.03</td>\n",
       "      <td>180</td>\n",
       "      <td>55812500</td>\n",
       "      <td>51.11</td>\n",
       "      <td>1.21</td>\n",
       "      <td>61900.0</td>\n",
       "      <td>0.02</td>\n",
       "      <td>...</td>\n",
       "      <td>5750.00</td>\n",
       "      <td>11500.00</td>\n",
       "      <td>9593.48</td>\n",
       "      <td>1648.80</td>\n",
       "      <td>0.60</td>\n",
       "      <td>0</td>\n",
       "      <td>51572.04</td>\n",
       "      <td>65.73</td>\n",
       "      <td>6.26</td>\n",
       "      <td>0</td>\n",
       "    </tr>\n",
       "    <tr>\n",
       "      <th>2</th>\n",
       "      <td>3</td>\n",
       "      <td>115</td>\n",
       "      <td>1449.85</td>\n",
       "      <td>608.43</td>\n",
       "      <td>88</td>\n",
       "      <td>287500</td>\n",
       "      <td>40.42</td>\n",
       "      <td>7.34</td>\n",
       "      <td>3340.0</td>\n",
       "      <td>0.18</td>\n",
       "      <td>...</td>\n",
       "      <td>1400.00</td>\n",
       "      <td>250.00</td>\n",
       "      <td>150.00</td>\n",
       "      <td>45.13</td>\n",
       "      <td>9.33</td>\n",
       "      <td>1</td>\n",
       "      <td>31692.84</td>\n",
       "      <td>65.81</td>\n",
       "      <td>7.84</td>\n",
       "      <td>1</td>\n",
       "    </tr>\n",
       "    <tr>\n",
       "      <th>3</th>\n",
       "      <td>4</td>\n",
       "      <td>1201</td>\n",
       "      <td>1562.53</td>\n",
       "      <td>295.65</td>\n",
       "      <td>66</td>\n",
       "      <td>3002500</td>\n",
       "      <td>42.40</td>\n",
       "      <td>7.97</td>\n",
       "      <td>18030.0</td>\n",
       "      <td>0.19</td>\n",
       "      <td>...</td>\n",
       "      <td>6041.52</td>\n",
       "      <td>761.58</td>\n",
       "      <td>453.21</td>\n",
       "      <td>144.97</td>\n",
       "      <td>13.33</td>\n",
       "      <td>1</td>\n",
       "      <td>37696.21</td>\n",
       "      <td>65.67</td>\n",
       "      <td>8.07</td>\n",
       "      <td>1</td>\n",
       "    </tr>\n",
       "    <tr>\n",
       "      <th>4</th>\n",
       "      <td>5</td>\n",
       "      <td>312</td>\n",
       "      <td>950.27</td>\n",
       "      <td>440.86</td>\n",
       "      <td>37</td>\n",
       "      <td>780000</td>\n",
       "      <td>41.43</td>\n",
       "      <td>7.03</td>\n",
       "      <td>3350.0</td>\n",
       "      <td>0.17</td>\n",
       "      <td>...</td>\n",
       "      <td>1320.04</td>\n",
       "      <td>710.63</td>\n",
       "      <td>512.54</td>\n",
       "      <td>109.16</td>\n",
       "      <td>2.58</td>\n",
       "      <td>0</td>\n",
       "      <td>29038.17</td>\n",
       "      <td>65.66</td>\n",
       "      <td>7.35</td>\n",
       "      <td>0</td>\n",
       "    </tr>\n",
       "  </tbody>\n",
       "</table>\n",
       "<p>5 rows × 50 columns</p>\n",
       "</div>"
      ],
      "text/plain": [
       "   f_1    f_2      f_3     f_4  f_5       f_6    f_7   f_8      f_9  f_10  \\\n",
       "0    1   2558  1506.09  456.63   90   6395000  40.88  7.89  29780.0  0.19   \n",
       "1    2  22325    79.11  841.03  180  55812500  51.11  1.21  61900.0  0.02   \n",
       "2    3    115  1449.85  608.43   88    287500  40.42  7.34   3340.0  0.18   \n",
       "3    4   1201  1562.53  295.65   66   3002500  42.40  7.97  18030.0  0.19   \n",
       "4    5    312   950.27  440.86   37    780000  41.43  7.03   3350.0  0.17   \n",
       "\n",
       "   ...     f_41      f_42     f_43     f_44   f_45  f_46      f_47   f_48  \\\n",
       "0  ...  2850.00   1000.00   763.16   135.46   3.73     0  33243.19  65.74   \n",
       "1  ...  5750.00  11500.00  9593.48  1648.80   0.60     0  51572.04  65.73   \n",
       "2  ...  1400.00    250.00   150.00    45.13   9.33     1  31692.84  65.81   \n",
       "3  ...  6041.52    761.58   453.21   144.97  13.33     1  37696.21  65.67   \n",
       "4  ...  1320.04    710.63   512.54   109.16   2.58     0  29038.17  65.66   \n",
       "\n",
       "   f_49  target  \n",
       "0  7.95       1  \n",
       "1  6.26       0  \n",
       "2  7.84       1  \n",
       "3  8.07       1  \n",
       "4  7.35       0  \n",
       "\n",
       "[5 rows x 50 columns]"
      ]
     },
     "execution_count": 513,
     "metadata": {},
     "output_type": "execute_result"
    }
   ],
   "source": [
    "df.head()"
   ]
  },
  {
   "cell_type": "code",
   "execution_count": 519,
   "metadata": {},
   "outputs": [
    {
     "name": "stdout",
     "output_type": "stream",
     "text": [
      "(20, 50)\n"
     ]
    },
    {
     "data": {
      "text/html": [
       "<div>\n",
       "<style scoped>\n",
       "    .dataframe tbody tr th:only-of-type {\n",
       "        vertical-align: middle;\n",
       "    }\n",
       "\n",
       "    .dataframe tbody tr th {\n",
       "        vertical-align: top;\n",
       "    }\n",
       "\n",
       "    .dataframe thead th {\n",
       "        text-align: right;\n",
       "    }\n",
       "</style>\n",
       "<table border=\"1\" class=\"dataframe\">\n",
       "  <thead>\n",
       "    <tr style=\"text-align: right;\">\n",
       "      <th></th>\n",
       "      <th>f_1</th>\n",
       "      <th>f_2</th>\n",
       "      <th>f_3</th>\n",
       "      <th>f_4</th>\n",
       "      <th>f_5</th>\n",
       "      <th>f_6</th>\n",
       "      <th>f_7</th>\n",
       "      <th>f_8</th>\n",
       "      <th>f_9</th>\n",
       "      <th>f_10</th>\n",
       "      <th>...</th>\n",
       "      <th>f_41</th>\n",
       "      <th>f_42</th>\n",
       "      <th>f_43</th>\n",
       "      <th>f_44</th>\n",
       "      <th>f_45</th>\n",
       "      <th>f_46</th>\n",
       "      <th>f_47</th>\n",
       "      <th>f_48</th>\n",
       "      <th>f_49</th>\n",
       "      <th>target</th>\n",
       "    </tr>\n",
       "  </thead>\n",
       "  <tbody>\n",
       "    <tr>\n",
       "      <th>774</th>\n",
       "      <td>42</td>\n",
       "      <td>25</td>\n",
       "      <td>65.68</td>\n",
       "      <td>275.40</td>\n",
       "      <td>63</td>\n",
       "      <td>202500</td>\n",
       "      <td>56.08</td>\n",
       "      <td>9.70</td>\n",
       "      <td>1858.0</td>\n",
       "      <td>0.17</td>\n",
       "      <td>...</td>\n",
       "      <td>804.98</td>\n",
       "      <td>254.56</td>\n",
       "      <td>104.71</td>\n",
       "      <td>97.24</td>\n",
       "      <td>7.69</td>\n",
       "      <td>0</td>\n",
       "      <td>2612.71</td>\n",
       "      <td>65.72</td>\n",
       "      <td>6.40</td>\n",
       "      <td>0</td>\n",
       "    </tr>\n",
       "    <tr>\n",
       "      <th>696</th>\n",
       "      <td>49</td>\n",
       "      <td>21</td>\n",
       "      <td>41.86</td>\n",
       "      <td>537.00</td>\n",
       "      <td>12</td>\n",
       "      <td>170100</td>\n",
       "      <td>68.43</td>\n",
       "      <td>15.10</td>\n",
       "      <td>1445.0</td>\n",
       "      <td>0.22</td>\n",
       "      <td>...</td>\n",
       "      <td>569.21</td>\n",
       "      <td>360.00</td>\n",
       "      <td>180.00</td>\n",
       "      <td>113.84</td>\n",
       "      <td>3.16</td>\n",
       "      <td>0</td>\n",
       "      <td>3580.89</td>\n",
       "      <td>66.06</td>\n",
       "      <td>6.06</td>\n",
       "      <td>0</td>\n",
       "    </tr>\n",
       "    <tr>\n",
       "      <th>601</th>\n",
       "      <td>33</td>\n",
       "      <td>12</td>\n",
       "      <td>122.83</td>\n",
       "      <td>578.33</td>\n",
       "      <td>76</td>\n",
       "      <td>97200</td>\n",
       "      <td>50.33</td>\n",
       "      <td>15.02</td>\n",
       "      <td>1064.0</td>\n",
       "      <td>0.30</td>\n",
       "      <td>...</td>\n",
       "      <td>569.21</td>\n",
       "      <td>90.00</td>\n",
       "      <td>60.00</td>\n",
       "      <td>46.48</td>\n",
       "      <td>9.49</td>\n",
       "      <td>1</td>\n",
       "      <td>4513.34</td>\n",
       "      <td>66.14</td>\n",
       "      <td>6.27</td>\n",
       "      <td>0</td>\n",
       "    </tr>\n",
       "    <tr>\n",
       "      <th>109</th>\n",
       "      <td>99</td>\n",
       "      <td>56</td>\n",
       "      <td>1732.82</td>\n",
       "      <td>1557.52</td>\n",
       "      <td>8</td>\n",
       "      <td>140000</td>\n",
       "      <td>38.32</td>\n",
       "      <td>4.53</td>\n",
       "      <td>1280.0</td>\n",
       "      <td>0.12</td>\n",
       "      <td>...</td>\n",
       "      <td>509.90</td>\n",
       "      <td>353.55</td>\n",
       "      <td>215.77</td>\n",
       "      <td>75.97</td>\n",
       "      <td>2.36</td>\n",
       "      <td>0</td>\n",
       "      <td>3664.41</td>\n",
       "      <td>66.33</td>\n",
       "      <td>7.93</td>\n",
       "      <td>0</td>\n",
       "    </tr>\n",
       "    <tr>\n",
       "      <th>69</th>\n",
       "      <td>59</td>\n",
       "      <td>400</td>\n",
       "      <td>1294.70</td>\n",
       "      <td>1256.43</td>\n",
       "      <td>66</td>\n",
       "      <td>1000000</td>\n",
       "      <td>39.10</td>\n",
       "      <td>6.95</td>\n",
       "      <td>8800.0</td>\n",
       "      <td>0.18</td>\n",
       "      <td>...</td>\n",
       "      <td>3178.05</td>\n",
       "      <td>492.44</td>\n",
       "      <td>259.19</td>\n",
       "      <td>111.11</td>\n",
       "      <td>12.26</td>\n",
       "      <td>1</td>\n",
       "      <td>6482.29</td>\n",
       "      <td>66.13</td>\n",
       "      <td>7.51</td>\n",
       "      <td>0</td>\n",
       "    </tr>\n",
       "  </tbody>\n",
       "</table>\n",
       "<p>5 rows × 50 columns</p>\n",
       "</div>"
      ],
      "text/plain": [
       "     f_1  f_2      f_3      f_4  f_5      f_6    f_7    f_8     f_9  f_10  \\\n",
       "774   42   25    65.68   275.40   63   202500  56.08   9.70  1858.0  0.17   \n",
       "696   49   21    41.86   537.00   12   170100  68.43  15.10  1445.0  0.22   \n",
       "601   33   12   122.83   578.33   76    97200  50.33  15.02  1064.0  0.30   \n",
       "109   99   56  1732.82  1557.52    8   140000  38.32   4.53  1280.0  0.12   \n",
       "69    59  400  1294.70  1256.43   66  1000000  39.10   6.95  8800.0  0.18   \n",
       "\n",
       "     ...     f_41    f_42    f_43    f_44   f_45  f_46     f_47   f_48  f_49  \\\n",
       "774  ...   804.98  254.56  104.71   97.24   7.69     0  2612.71  65.72  6.40   \n",
       "696  ...   569.21  360.00  180.00  113.84   3.16     0  3580.89  66.06  6.06   \n",
       "601  ...   569.21   90.00   60.00   46.48   9.49     1  4513.34  66.14  6.27   \n",
       "109  ...   509.90  353.55  215.77   75.97   2.36     0  3664.41  66.33  7.93   \n",
       "69   ...  3178.05  492.44  259.19  111.11  12.26     1  6482.29  66.13  7.51   \n",
       "\n",
       "     target  \n",
       "774       0  \n",
       "696       0  \n",
       "601       0  \n",
       "109       0  \n",
       "69        0  \n",
       "\n",
       "[5 rows x 50 columns]"
      ]
     },
     "execution_count": 519,
     "metadata": {},
     "output_type": "execute_result"
    }
   ],
   "source": [
    "# Random_data = df.sample(20) # commenting out this as sample data changes when executed\n",
    "print(Random_data.shape)\n",
    "Random_data.head()"
   ]
  },
  {
   "cell_type": "code",
   "execution_count": 521,
   "metadata": {},
   "outputs": [
    {
     "data": {
      "text/html": [
       "<div>\n",
       "<style scoped>\n",
       "    .dataframe tbody tr th:only-of-type {\n",
       "        vertical-align: middle;\n",
       "    }\n",
       "\n",
       "    .dataframe tbody tr th {\n",
       "        vertical-align: top;\n",
       "    }\n",
       "\n",
       "    .dataframe thead th {\n",
       "        text-align: right;\n",
       "    }\n",
       "</style>\n",
       "<table border=\"1\" class=\"dataframe\">\n",
       "  <thead>\n",
       "    <tr style=\"text-align: right;\">\n",
       "      <th></th>\n",
       "      <th>index</th>\n",
       "      <th>f_1</th>\n",
       "      <th>f_2</th>\n",
       "      <th>f_3</th>\n",
       "      <th>f_4</th>\n",
       "      <th>f_5</th>\n",
       "      <th>f_6</th>\n",
       "      <th>f_7</th>\n",
       "      <th>f_8</th>\n",
       "      <th>f_9</th>\n",
       "      <th>...</th>\n",
       "      <th>f_41</th>\n",
       "      <th>f_42</th>\n",
       "      <th>f_43</th>\n",
       "      <th>f_44</th>\n",
       "      <th>f_45</th>\n",
       "      <th>f_46</th>\n",
       "      <th>f_47</th>\n",
       "      <th>f_48</th>\n",
       "      <th>f_49</th>\n",
       "      <th>target</th>\n",
       "    </tr>\n",
       "  </thead>\n",
       "  <tbody>\n",
       "    <tr>\n",
       "      <th>0</th>\n",
       "      <td>774</td>\n",
       "      <td>42</td>\n",
       "      <td>25</td>\n",
       "      <td>65.68</td>\n",
       "      <td>275.40</td>\n",
       "      <td>63</td>\n",
       "      <td>202500</td>\n",
       "      <td>56.08</td>\n",
       "      <td>9.70</td>\n",
       "      <td>1858.0</td>\n",
       "      <td>...</td>\n",
       "      <td>804.98</td>\n",
       "      <td>254.56</td>\n",
       "      <td>104.71</td>\n",
       "      <td>97.24</td>\n",
       "      <td>7.69</td>\n",
       "      <td>0</td>\n",
       "      <td>2612.71</td>\n",
       "      <td>65.72</td>\n",
       "      <td>6.40</td>\n",
       "      <td>0</td>\n",
       "    </tr>\n",
       "    <tr>\n",
       "      <th>1</th>\n",
       "      <td>696</td>\n",
       "      <td>49</td>\n",
       "      <td>21</td>\n",
       "      <td>41.86</td>\n",
       "      <td>537.00</td>\n",
       "      <td>12</td>\n",
       "      <td>170100</td>\n",
       "      <td>68.43</td>\n",
       "      <td>15.10</td>\n",
       "      <td>1445.0</td>\n",
       "      <td>...</td>\n",
       "      <td>569.21</td>\n",
       "      <td>360.00</td>\n",
       "      <td>180.00</td>\n",
       "      <td>113.84</td>\n",
       "      <td>3.16</td>\n",
       "      <td>0</td>\n",
       "      <td>3580.89</td>\n",
       "      <td>66.06</td>\n",
       "      <td>6.06</td>\n",
       "      <td>0</td>\n",
       "    </tr>\n",
       "    <tr>\n",
       "      <th>2</th>\n",
       "      <td>601</td>\n",
       "      <td>33</td>\n",
       "      <td>12</td>\n",
       "      <td>122.83</td>\n",
       "      <td>578.33</td>\n",
       "      <td>76</td>\n",
       "      <td>97200</td>\n",
       "      <td>50.33</td>\n",
       "      <td>15.02</td>\n",
       "      <td>1064.0</td>\n",
       "      <td>...</td>\n",
       "      <td>569.21</td>\n",
       "      <td>90.00</td>\n",
       "      <td>60.00</td>\n",
       "      <td>46.48</td>\n",
       "      <td>9.49</td>\n",
       "      <td>1</td>\n",
       "      <td>4513.34</td>\n",
       "      <td>66.14</td>\n",
       "      <td>6.27</td>\n",
       "      <td>0</td>\n",
       "    </tr>\n",
       "    <tr>\n",
       "      <th>3</th>\n",
       "      <td>109</td>\n",
       "      <td>99</td>\n",
       "      <td>56</td>\n",
       "      <td>1732.82</td>\n",
       "      <td>1557.52</td>\n",
       "      <td>8</td>\n",
       "      <td>140000</td>\n",
       "      <td>38.32</td>\n",
       "      <td>4.53</td>\n",
       "      <td>1280.0</td>\n",
       "      <td>...</td>\n",
       "      <td>509.90</td>\n",
       "      <td>353.55</td>\n",
       "      <td>215.77</td>\n",
       "      <td>75.97</td>\n",
       "      <td>2.36</td>\n",
       "      <td>0</td>\n",
       "      <td>3664.41</td>\n",
       "      <td>66.33</td>\n",
       "      <td>7.93</td>\n",
       "      <td>0</td>\n",
       "    </tr>\n",
       "    <tr>\n",
       "      <th>4</th>\n",
       "      <td>69</td>\n",
       "      <td>59</td>\n",
       "      <td>400</td>\n",
       "      <td>1294.70</td>\n",
       "      <td>1256.43</td>\n",
       "      <td>66</td>\n",
       "      <td>1000000</td>\n",
       "      <td>39.10</td>\n",
       "      <td>6.95</td>\n",
       "      <td>8800.0</td>\n",
       "      <td>...</td>\n",
       "      <td>3178.05</td>\n",
       "      <td>492.44</td>\n",
       "      <td>259.19</td>\n",
       "      <td>111.11</td>\n",
       "      <td>12.26</td>\n",
       "      <td>1</td>\n",
       "      <td>6482.29</td>\n",
       "      <td>66.13</td>\n",
       "      <td>7.51</td>\n",
       "      <td>0</td>\n",
       "    </tr>\n",
       "    <tr>\n",
       "      <th>5</th>\n",
       "      <td>802</td>\n",
       "      <td>70</td>\n",
       "      <td>30</td>\n",
       "      <td>27.30</td>\n",
       "      <td>435.73</td>\n",
       "      <td>2</td>\n",
       "      <td>243000</td>\n",
       "      <td>58.13</td>\n",
       "      <td>12.16</td>\n",
       "      <td>1932.0</td>\n",
       "      <td>...</td>\n",
       "      <td>810.00</td>\n",
       "      <td>360.00</td>\n",
       "      <td>180.00</td>\n",
       "      <td>90.00</td>\n",
       "      <td>4.50</td>\n",
       "      <td>0</td>\n",
       "      <td>2087.31</td>\n",
       "      <td>65.92</td>\n",
       "      <td>6.12</td>\n",
       "      <td>0</td>\n",
       "    </tr>\n",
       "    <tr>\n",
       "      <th>6</th>\n",
       "      <td>709</td>\n",
       "      <td>62</td>\n",
       "      <td>11</td>\n",
       "      <td>19.91</td>\n",
       "      <td>191.64</td>\n",
       "      <td>179</td>\n",
       "      <td>89100</td>\n",
       "      <td>74.27</td>\n",
       "      <td>8.89</td>\n",
       "      <td>847.0</td>\n",
       "      <td>...</td>\n",
       "      <td>540.00</td>\n",
       "      <td>90.00</td>\n",
       "      <td>60.00</td>\n",
       "      <td>46.48</td>\n",
       "      <td>9.00</td>\n",
       "      <td>1</td>\n",
       "      <td>21427.46</td>\n",
       "      <td>65.59</td>\n",
       "      <td>6.34</td>\n",
       "      <td>0</td>\n",
       "    </tr>\n",
       "    <tr>\n",
       "      <th>7</th>\n",
       "      <td>625</td>\n",
       "      <td>57</td>\n",
       "      <td>14</td>\n",
       "      <td>3.00</td>\n",
       "      <td>31.93</td>\n",
       "      <td>90</td>\n",
       "      <td>113400</td>\n",
       "      <td>57.14</td>\n",
       "      <td>7.52</td>\n",
       "      <td>1027.0</td>\n",
       "      <td>...</td>\n",
       "      <td>360.00</td>\n",
       "      <td>270.00</td>\n",
       "      <td>180.00</td>\n",
       "      <td>73.48</td>\n",
       "      <td>2.00</td>\n",
       "      <td>0</td>\n",
       "      <td>22809.90</td>\n",
       "      <td>65.37</td>\n",
       "      <td>6.45</td>\n",
       "      <td>0</td>\n",
       "    </tr>\n",
       "    <tr>\n",
       "      <th>8</th>\n",
       "      <td>800</td>\n",
       "      <td>68</td>\n",
       "      <td>13</td>\n",
       "      <td>24.69</td>\n",
       "      <td>477.00</td>\n",
       "      <td>67</td>\n",
       "      <td>105300</td>\n",
       "      <td>47.46</td>\n",
       "      <td>5.87</td>\n",
       "      <td>1101.0</td>\n",
       "      <td>...</td>\n",
       "      <td>569.21</td>\n",
       "      <td>180.00</td>\n",
       "      <td>75.00</td>\n",
       "      <td>67.75</td>\n",
       "      <td>7.59</td>\n",
       "      <td>0</td>\n",
       "      <td>2782.08</td>\n",
       "      <td>65.97</td>\n",
       "      <td>6.06</td>\n",
       "      <td>0</td>\n",
       "    </tr>\n",
       "    <tr>\n",
       "      <th>9</th>\n",
       "      <td>246</td>\n",
       "      <td>128</td>\n",
       "      <td>76</td>\n",
       "      <td>508.12</td>\n",
       "      <td>258.49</td>\n",
       "      <td>63</td>\n",
       "      <td>190000</td>\n",
       "      <td>37.33</td>\n",
       "      <td>1.56</td>\n",
       "      <td>2410.0</td>\n",
       "      <td>...</td>\n",
       "      <td>827.65</td>\n",
       "      <td>316.23</td>\n",
       "      <td>156.92</td>\n",
       "      <td>77.05</td>\n",
       "      <td>5.27</td>\n",
       "      <td>0</td>\n",
       "      <td>19959.22</td>\n",
       "      <td>65.52</td>\n",
       "      <td>6.93</td>\n",
       "      <td>0</td>\n",
       "    </tr>\n",
       "    <tr>\n",
       "      <th>10</th>\n",
       "      <td>813</td>\n",
       "      <td>81</td>\n",
       "      <td>10</td>\n",
       "      <td>57.50</td>\n",
       "      <td>507.80</td>\n",
       "      <td>60</td>\n",
       "      <td>81000</td>\n",
       "      <td>50.50</td>\n",
       "      <td>6.69</td>\n",
       "      <td>921.0</td>\n",
       "      <td>...</td>\n",
       "      <td>402.49</td>\n",
       "      <td>127.28</td>\n",
       "      <td>31.82</td>\n",
       "      <td>63.64</td>\n",
       "      <td>12.65</td>\n",
       "      <td>0</td>\n",
       "      <td>3704.69</td>\n",
       "      <td>66.03</td>\n",
       "      <td>6.14</td>\n",
       "      <td>0</td>\n",
       "    </tr>\n",
       "    <tr>\n",
       "      <th>11</th>\n",
       "      <td>592</td>\n",
       "      <td>24</td>\n",
       "      <td>61</td>\n",
       "      <td>22.00</td>\n",
       "      <td>465.15</td>\n",
       "      <td>88</td>\n",
       "      <td>494100</td>\n",
       "      <td>48.10</td>\n",
       "      <td>13.42</td>\n",
       "      <td>3128.0</td>\n",
       "      <td>...</td>\n",
       "      <td>1080.00</td>\n",
       "      <td>630.00</td>\n",
       "      <td>375.00</td>\n",
       "      <td>187.35</td>\n",
       "      <td>2.88</td>\n",
       "      <td>0</td>\n",
       "      <td>5989.12</td>\n",
       "      <td>65.95</td>\n",
       "      <td>6.07</td>\n",
       "      <td>0</td>\n",
       "    </tr>\n",
       "    <tr>\n",
       "      <th>12</th>\n",
       "      <td>936</td>\n",
       "      <td>204</td>\n",
       "      <td>11</td>\n",
       "      <td>7.73</td>\n",
       "      <td>235.73</td>\n",
       "      <td>135</td>\n",
       "      <td>89100</td>\n",
       "      <td>61.82</td>\n",
       "      <td>12.24</td>\n",
       "      <td>831.0</td>\n",
       "      <td>...</td>\n",
       "      <td>254.56</td>\n",
       "      <td>254.56</td>\n",
       "      <td>127.28</td>\n",
       "      <td>180.00</td>\n",
       "      <td>2.00</td>\n",
       "      <td>0</td>\n",
       "      <td>3782.68</td>\n",
       "      <td>65.65</td>\n",
       "      <td>6.26</td>\n",
       "      <td>0</td>\n",
       "    </tr>\n",
       "    <tr>\n",
       "      <th>13</th>\n",
       "      <td>37</td>\n",
       "      <td>27</td>\n",
       "      <td>1157</td>\n",
       "      <td>1664.47</td>\n",
       "      <td>1553.88</td>\n",
       "      <td>57</td>\n",
       "      <td>2892500</td>\n",
       "      <td>36.81</td>\n",
       "      <td>8.56</td>\n",
       "      <td>20830.0</td>\n",
       "      <td>...</td>\n",
       "      <td>2205.11</td>\n",
       "      <td>1844.59</td>\n",
       "      <td>1245.62</td>\n",
       "      <td>443.83</td>\n",
       "      <td>1.77</td>\n",
       "      <td>0</td>\n",
       "      <td>3347.77</td>\n",
       "      <td>66.32</td>\n",
       "      <td>7.85</td>\n",
       "      <td>0</td>\n",
       "    </tr>\n",
       "    <tr>\n",
       "      <th>14</th>\n",
       "      <td>10</td>\n",
       "      <td>11</td>\n",
       "      <td>59</td>\n",
       "      <td>1127.41</td>\n",
       "      <td>1507.76</td>\n",
       "      <td>42</td>\n",
       "      <td>147500</td>\n",
       "      <td>47.59</td>\n",
       "      <td>4.72</td>\n",
       "      <td>1800.0</td>\n",
       "      <td>...</td>\n",
       "      <td>707.11</td>\n",
       "      <td>212.13</td>\n",
       "      <td>120.21</td>\n",
       "      <td>47.73</td>\n",
       "      <td>5.88</td>\n",
       "      <td>0</td>\n",
       "      <td>55128.46</td>\n",
       "      <td>66.18</td>\n",
       "      <td>7.18</td>\n",
       "      <td>1</td>\n",
       "    </tr>\n",
       "    <tr>\n",
       "      <th>15</th>\n",
       "      <td>83</td>\n",
       "      <td>73</td>\n",
       "      <td>139</td>\n",
       "      <td>1668.24</td>\n",
       "      <td>1622.01</td>\n",
       "      <td>88</td>\n",
       "      <td>347500</td>\n",
       "      <td>34.93</td>\n",
       "      <td>7.12</td>\n",
       "      <td>4160.0</td>\n",
       "      <td>...</td>\n",
       "      <td>1200.00</td>\n",
       "      <td>450.00</td>\n",
       "      <td>231.25</td>\n",
       "      <td>125.81</td>\n",
       "      <td>5.19</td>\n",
       "      <td>0</td>\n",
       "      <td>3292.20</td>\n",
       "      <td>66.36</td>\n",
       "      <td>7.83</td>\n",
       "      <td>0</td>\n",
       "    </tr>\n",
       "    <tr>\n",
       "      <th>16</th>\n",
       "      <td>327</td>\n",
       "      <td>37</td>\n",
       "      <td>98</td>\n",
       "      <td>1326.06</td>\n",
       "      <td>1109.08</td>\n",
       "      <td>72</td>\n",
       "      <td>245000</td>\n",
       "      <td>41.31</td>\n",
       "      <td>7.53</td>\n",
       "      <td>2880.0</td>\n",
       "      <td>...</td>\n",
       "      <td>728.01</td>\n",
       "      <td>269.26</td>\n",
       "      <td>196.00</td>\n",
       "      <td>33.61</td>\n",
       "      <td>3.71</td>\n",
       "      <td>0</td>\n",
       "      <td>7233.16</td>\n",
       "      <td>66.02</td>\n",
       "      <td>7.54</td>\n",
       "      <td>0</td>\n",
       "    </tr>\n",
       "    <tr>\n",
       "      <th>17</th>\n",
       "      <td>115</td>\n",
       "      <td>105</td>\n",
       "      <td>141</td>\n",
       "      <td>129.73</td>\n",
       "      <td>1751.99</td>\n",
       "      <td>132</td>\n",
       "      <td>352500</td>\n",
       "      <td>44.06</td>\n",
       "      <td>2.79</td>\n",
       "      <td>5420.0</td>\n",
       "      <td>...</td>\n",
       "      <td>1274.75</td>\n",
       "      <td>813.94</td>\n",
       "      <td>296.15</td>\n",
       "      <td>221.24</td>\n",
       "      <td>4.30</td>\n",
       "      <td>0</td>\n",
       "      <td>27511.01</td>\n",
       "      <td>66.21</td>\n",
       "      <td>5.96</td>\n",
       "      <td>0</td>\n",
       "    </tr>\n",
       "    <tr>\n",
       "      <th>18</th>\n",
       "      <td>869</td>\n",
       "      <td>137</td>\n",
       "      <td>15</td>\n",
       "      <td>161.33</td>\n",
       "      <td>372.27</td>\n",
       "      <td>87</td>\n",
       "      <td>121500</td>\n",
       "      <td>56.20</td>\n",
       "      <td>9.21</td>\n",
       "      <td>1191.0</td>\n",
       "      <td>...</td>\n",
       "      <td>450.00</td>\n",
       "      <td>180.00</td>\n",
       "      <td>126.00</td>\n",
       "      <td>49.30</td>\n",
       "      <td>3.57</td>\n",
       "      <td>0</td>\n",
       "      <td>3536.93</td>\n",
       "      <td>65.89</td>\n",
       "      <td>6.60</td>\n",
       "      <td>0</td>\n",
       "    </tr>\n",
       "    <tr>\n",
       "      <th>19</th>\n",
       "      <td>164</td>\n",
       "      <td>155</td>\n",
       "      <td>81</td>\n",
       "      <td>124.90</td>\n",
       "      <td>1723.38</td>\n",
       "      <td>171</td>\n",
       "      <td>202500</td>\n",
       "      <td>45.02</td>\n",
       "      <td>2.82</td>\n",
       "      <td>2510.0</td>\n",
       "      <td>...</td>\n",
       "      <td>707.11</td>\n",
       "      <td>460.98</td>\n",
       "      <td>249.03</td>\n",
       "      <td>124.60</td>\n",
       "      <td>2.84</td>\n",
       "      <td>0</td>\n",
       "      <td>27288.37</td>\n",
       "      <td>66.19</td>\n",
       "      <td>5.97</td>\n",
       "      <td>0</td>\n",
       "    </tr>\n",
       "  </tbody>\n",
       "</table>\n",
       "<p>20 rows × 51 columns</p>\n",
       "</div>"
      ],
      "text/plain": [
       "    index  f_1   f_2      f_3      f_4  f_5      f_6    f_7    f_8      f_9  \\\n",
       "0     774   42    25    65.68   275.40   63   202500  56.08   9.70   1858.0   \n",
       "1     696   49    21    41.86   537.00   12   170100  68.43  15.10   1445.0   \n",
       "2     601   33    12   122.83   578.33   76    97200  50.33  15.02   1064.0   \n",
       "3     109   99    56  1732.82  1557.52    8   140000  38.32   4.53   1280.0   \n",
       "4      69   59   400  1294.70  1256.43   66  1000000  39.10   6.95   8800.0   \n",
       "5     802   70    30    27.30   435.73    2   243000  58.13  12.16   1932.0   \n",
       "6     709   62    11    19.91   191.64  179    89100  74.27   8.89    847.0   \n",
       "7     625   57    14     3.00    31.93   90   113400  57.14   7.52   1027.0   \n",
       "8     800   68    13    24.69   477.00   67   105300  47.46   5.87   1101.0   \n",
       "9     246  128    76   508.12   258.49   63   190000  37.33   1.56   2410.0   \n",
       "10    813   81    10    57.50   507.80   60    81000  50.50   6.69    921.0   \n",
       "11    592   24    61    22.00   465.15   88   494100  48.10  13.42   3128.0   \n",
       "12    936  204    11     7.73   235.73  135    89100  61.82  12.24    831.0   \n",
       "13     37   27  1157  1664.47  1553.88   57  2892500  36.81   8.56  20830.0   \n",
       "14     10   11    59  1127.41  1507.76   42   147500  47.59   4.72   1800.0   \n",
       "15     83   73   139  1668.24  1622.01   88   347500  34.93   7.12   4160.0   \n",
       "16    327   37    98  1326.06  1109.08   72   245000  41.31   7.53   2880.0   \n",
       "17    115  105   141   129.73  1751.99  132   352500  44.06   2.79   5420.0   \n",
       "18    869  137    15   161.33   372.27   87   121500  56.20   9.21   1191.0   \n",
       "19    164  155    81   124.90  1723.38  171   202500  45.02   2.82   2510.0   \n",
       "\n",
       "    ...     f_41     f_42     f_43    f_44   f_45  f_46      f_47   f_48  \\\n",
       "0   ...   804.98   254.56   104.71   97.24   7.69     0   2612.71  65.72   \n",
       "1   ...   569.21   360.00   180.00  113.84   3.16     0   3580.89  66.06   \n",
       "2   ...   569.21    90.00    60.00   46.48   9.49     1   4513.34  66.14   \n",
       "3   ...   509.90   353.55   215.77   75.97   2.36     0   3664.41  66.33   \n",
       "4   ...  3178.05   492.44   259.19  111.11  12.26     1   6482.29  66.13   \n",
       "5   ...   810.00   360.00   180.00   90.00   4.50     0   2087.31  65.92   \n",
       "6   ...   540.00    90.00    60.00   46.48   9.00     1  21427.46  65.59   \n",
       "7   ...   360.00   270.00   180.00   73.48   2.00     0  22809.90  65.37   \n",
       "8   ...   569.21   180.00    75.00   67.75   7.59     0   2782.08  65.97   \n",
       "9   ...   827.65   316.23   156.92   77.05   5.27     0  19959.22  65.52   \n",
       "10  ...   402.49   127.28    31.82   63.64  12.65     0   3704.69  66.03   \n",
       "11  ...  1080.00   630.00   375.00  187.35   2.88     0   5989.12  65.95   \n",
       "12  ...   254.56   254.56   127.28  180.00   2.00     0   3782.68  65.65   \n",
       "13  ...  2205.11  1844.59  1245.62  443.83   1.77     0   3347.77  66.32   \n",
       "14  ...   707.11   212.13   120.21   47.73   5.88     0  55128.46  66.18   \n",
       "15  ...  1200.00   450.00   231.25  125.81   5.19     0   3292.20  66.36   \n",
       "16  ...   728.01   269.26   196.00   33.61   3.71     0   7233.16  66.02   \n",
       "17  ...  1274.75   813.94   296.15  221.24   4.30     0  27511.01  66.21   \n",
       "18  ...   450.00   180.00   126.00   49.30   3.57     0   3536.93  65.89   \n",
       "19  ...   707.11   460.98   249.03  124.60   2.84     0  27288.37  66.19   \n",
       "\n",
       "    f_49  target  \n",
       "0   6.40       0  \n",
       "1   6.06       0  \n",
       "2   6.27       0  \n",
       "3   7.93       0  \n",
       "4   7.51       0  \n",
       "5   6.12       0  \n",
       "6   6.34       0  \n",
       "7   6.45       0  \n",
       "8   6.06       0  \n",
       "9   6.93       0  \n",
       "10  6.14       0  \n",
       "11  6.07       0  \n",
       "12  6.26       0  \n",
       "13  7.85       0  \n",
       "14  7.18       1  \n",
       "15  7.83       0  \n",
       "16  7.54       0  \n",
       "17  5.96       0  \n",
       "18  6.60       0  \n",
       "19  5.97       0  \n",
       "\n",
       "[20 rows x 51 columns]"
      ]
     },
     "execution_count": 521,
     "metadata": {},
     "output_type": "execute_result"
    }
   ],
   "source": [
    "Random_data.reset_index()"
   ]
  },
  {
   "attachments": {},
   "cell_type": "markdown",
   "metadata": {},
   "source": [
    "#### Saving Random 20 data point to CSV file"
   ]
  },
  {
   "cell_type": "code",
   "execution_count": 522,
   "metadata": {},
   "outputs": [],
   "source": [
    "# Random_data.to_csv(\"Random_20_data.csv\", index=False)     # commenting out so that it doesnt run again and save file again."
   ]
  },
  {
   "attachments": {},
   "cell_type": "markdown",
   "metadata": {},
   "source": [
    "#### Loading the Model"
   ]
  },
  {
   "cell_type": "code",
   "execution_count": 523,
   "metadata": {},
   "outputs": [
    {
     "name": "stdout",
     "output_type": "stream",
     "text": [
      "DecisionTreeClassifier(max_depth=20, min_samples_split=15)\n"
     ]
    }
   ],
   "source": [
    "load_model = pickle.load(open('Decision_Tree.pkl','rb'))    # rb = read binary\n",
    "print(load_model)"
   ]
  },
  {
   "attachments": {},
   "cell_type": "markdown",
   "metadata": {},
   "source": [
    "#### Lets try Model on Sample Data"
   ]
  },
  {
   "attachments": {},
   "cell_type": "markdown",
   "metadata": {},
   "source": [
    "Importing Random_20_data as test_df and then will do all the necessary data_preprocessing"
   ]
  },
  {
   "cell_type": "code",
   "execution_count": 528,
   "metadata": {},
   "outputs": [
    {
     "name": "stdout",
     "output_type": "stream",
     "text": [
      "(20, 50)\n"
     ]
    },
    {
     "data": {
      "text/html": [
       "<div>\n",
       "<style scoped>\n",
       "    .dataframe tbody tr th:only-of-type {\n",
       "        vertical-align: middle;\n",
       "    }\n",
       "\n",
       "    .dataframe tbody tr th {\n",
       "        vertical-align: top;\n",
       "    }\n",
       "\n",
       "    .dataframe thead th {\n",
       "        text-align: right;\n",
       "    }\n",
       "</style>\n",
       "<table border=\"1\" class=\"dataframe\">\n",
       "  <thead>\n",
       "    <tr style=\"text-align: right;\">\n",
       "      <th></th>\n",
       "      <th>f_1</th>\n",
       "      <th>f_2</th>\n",
       "      <th>f_3</th>\n",
       "      <th>f_4</th>\n",
       "      <th>f_5</th>\n",
       "      <th>f_6</th>\n",
       "      <th>f_7</th>\n",
       "      <th>f_8</th>\n",
       "      <th>f_9</th>\n",
       "      <th>f_10</th>\n",
       "      <th>...</th>\n",
       "      <th>f_41</th>\n",
       "      <th>f_42</th>\n",
       "      <th>f_43</th>\n",
       "      <th>f_44</th>\n",
       "      <th>f_45</th>\n",
       "      <th>f_46</th>\n",
       "      <th>f_47</th>\n",
       "      <th>f_48</th>\n",
       "      <th>f_49</th>\n",
       "      <th>target</th>\n",
       "    </tr>\n",
       "  </thead>\n",
       "  <tbody>\n",
       "    <tr>\n",
       "      <th>0</th>\n",
       "      <td>42</td>\n",
       "      <td>25</td>\n",
       "      <td>65.68</td>\n",
       "      <td>275.40</td>\n",
       "      <td>63</td>\n",
       "      <td>202500</td>\n",
       "      <td>56.08</td>\n",
       "      <td>9.70</td>\n",
       "      <td>1858.0</td>\n",
       "      <td>0.17</td>\n",
       "      <td>...</td>\n",
       "      <td>804.98</td>\n",
       "      <td>254.56</td>\n",
       "      <td>104.71</td>\n",
       "      <td>97.24</td>\n",
       "      <td>7.69</td>\n",
       "      <td>0</td>\n",
       "      <td>2612.71</td>\n",
       "      <td>65.72</td>\n",
       "      <td>6.40</td>\n",
       "      <td>0</td>\n",
       "    </tr>\n",
       "    <tr>\n",
       "      <th>1</th>\n",
       "      <td>49</td>\n",
       "      <td>21</td>\n",
       "      <td>41.86</td>\n",
       "      <td>537.00</td>\n",
       "      <td>12</td>\n",
       "      <td>170100</td>\n",
       "      <td>68.43</td>\n",
       "      <td>15.10</td>\n",
       "      <td>1445.0</td>\n",
       "      <td>0.22</td>\n",
       "      <td>...</td>\n",
       "      <td>569.21</td>\n",
       "      <td>360.00</td>\n",
       "      <td>180.00</td>\n",
       "      <td>113.84</td>\n",
       "      <td>3.16</td>\n",
       "      <td>0</td>\n",
       "      <td>3580.89</td>\n",
       "      <td>66.06</td>\n",
       "      <td>6.06</td>\n",
       "      <td>0</td>\n",
       "    </tr>\n",
       "    <tr>\n",
       "      <th>2</th>\n",
       "      <td>33</td>\n",
       "      <td>12</td>\n",
       "      <td>122.83</td>\n",
       "      <td>578.33</td>\n",
       "      <td>76</td>\n",
       "      <td>97200</td>\n",
       "      <td>50.33</td>\n",
       "      <td>15.02</td>\n",
       "      <td>1064.0</td>\n",
       "      <td>0.30</td>\n",
       "      <td>...</td>\n",
       "      <td>569.21</td>\n",
       "      <td>90.00</td>\n",
       "      <td>60.00</td>\n",
       "      <td>46.48</td>\n",
       "      <td>9.49</td>\n",
       "      <td>1</td>\n",
       "      <td>4513.34</td>\n",
       "      <td>66.14</td>\n",
       "      <td>6.27</td>\n",
       "      <td>0</td>\n",
       "    </tr>\n",
       "    <tr>\n",
       "      <th>3</th>\n",
       "      <td>99</td>\n",
       "      <td>56</td>\n",
       "      <td>1732.82</td>\n",
       "      <td>1557.52</td>\n",
       "      <td>8</td>\n",
       "      <td>140000</td>\n",
       "      <td>38.32</td>\n",
       "      <td>4.53</td>\n",
       "      <td>1280.0</td>\n",
       "      <td>0.12</td>\n",
       "      <td>...</td>\n",
       "      <td>509.90</td>\n",
       "      <td>353.55</td>\n",
       "      <td>215.77</td>\n",
       "      <td>75.97</td>\n",
       "      <td>2.36</td>\n",
       "      <td>0</td>\n",
       "      <td>3664.41</td>\n",
       "      <td>66.33</td>\n",
       "      <td>7.93</td>\n",
       "      <td>0</td>\n",
       "    </tr>\n",
       "    <tr>\n",
       "      <th>4</th>\n",
       "      <td>59</td>\n",
       "      <td>400</td>\n",
       "      <td>1294.70</td>\n",
       "      <td>1256.43</td>\n",
       "      <td>66</td>\n",
       "      <td>1000000</td>\n",
       "      <td>39.10</td>\n",
       "      <td>6.95</td>\n",
       "      <td>8800.0</td>\n",
       "      <td>0.18</td>\n",
       "      <td>...</td>\n",
       "      <td>3178.05</td>\n",
       "      <td>492.44</td>\n",
       "      <td>259.19</td>\n",
       "      <td>111.11</td>\n",
       "      <td>12.26</td>\n",
       "      <td>1</td>\n",
       "      <td>6482.29</td>\n",
       "      <td>66.13</td>\n",
       "      <td>7.51</td>\n",
       "      <td>0</td>\n",
       "    </tr>\n",
       "  </tbody>\n",
       "</table>\n",
       "<p>5 rows × 50 columns</p>\n",
       "</div>"
      ],
      "text/plain": [
       "   f_1  f_2      f_3      f_4  f_5      f_6    f_7    f_8     f_9  f_10  ...  \\\n",
       "0   42   25    65.68   275.40   63   202500  56.08   9.70  1858.0  0.17  ...   \n",
       "1   49   21    41.86   537.00   12   170100  68.43  15.10  1445.0  0.22  ...   \n",
       "2   33   12   122.83   578.33   76    97200  50.33  15.02  1064.0  0.30  ...   \n",
       "3   99   56  1732.82  1557.52    8   140000  38.32   4.53  1280.0  0.12  ...   \n",
       "4   59  400  1294.70  1256.43   66  1000000  39.10   6.95  8800.0  0.18  ...   \n",
       "\n",
       "      f_41    f_42    f_43    f_44   f_45  f_46     f_47   f_48  f_49  target  \n",
       "0   804.98  254.56  104.71   97.24   7.69     0  2612.71  65.72  6.40       0  \n",
       "1   569.21  360.00  180.00  113.84   3.16     0  3580.89  66.06  6.06       0  \n",
       "2   569.21   90.00   60.00   46.48   9.49     1  4513.34  66.14  6.27       0  \n",
       "3   509.90  353.55  215.77   75.97   2.36     0  3664.41  66.33  7.93       0  \n",
       "4  3178.05  492.44  259.19  111.11  12.26     1  6482.29  66.13  7.51       0  \n",
       "\n",
       "[5 rows x 50 columns]"
      ]
     },
     "execution_count": 528,
     "metadata": {},
     "output_type": "execute_result"
    }
   ],
   "source": [
    "test_df = pd.read_csv('Random_20_data.csv')\n",
    "print(test_df.shape)\n",
    "test_df.head()"
   ]
  },
  {
   "attachments": {},
   "cell_type": "markdown",
   "metadata": {},
   "source": [
    "Create another object and remove Target from dataframe"
   ]
  },
  {
   "cell_type": "code",
   "execution_count": 527,
   "metadata": {},
   "outputs": [
    {
     "data": {
      "text/plain": [
       "(20, 49)"
      ]
     },
     "execution_count": 527,
     "metadata": {},
     "output_type": "execute_result"
    }
   ],
   "source": [
    "test_df1 = test_df.drop('target',axis=1)\n",
    "test_df1.shape"
   ]
  },
  {
   "cell_type": "code",
   "execution_count": 532,
   "metadata": {},
   "outputs": [
    {
     "name": "stdout",
     "output_type": "stream",
     "text": [
      "<class 'pandas.core.frame.DataFrame'>\n",
      "RangeIndex: 20 entries, 0 to 19\n",
      "Data columns (total 49 columns):\n",
      " #   Column  Non-Null Count  Dtype  \n",
      "---  ------  --------------  -----  \n",
      " 0   f_1     20 non-null     int64  \n",
      " 1   f_2     20 non-null     int64  \n",
      " 2   f_3     20 non-null     float64\n",
      " 3   f_4     20 non-null     float64\n",
      " 4   f_5     20 non-null     int64  \n",
      " 5   f_6     20 non-null     int64  \n",
      " 6   f_7     20 non-null     float64\n",
      " 7   f_8     20 non-null     float64\n",
      " 8   f_9     20 non-null     float64\n",
      " 9   f_10    20 non-null     float64\n",
      " 10  f_11    20 non-null     float64\n",
      " 11  f_12    20 non-null     float64\n",
      " 12  f_13    20 non-null     float64\n",
      " 13  f_14    20 non-null     float64\n",
      " 14  f_15    20 non-null     float64\n",
      " 15  f_16    20 non-null     float64\n",
      " 16  f_17    20 non-null     float64\n",
      " 17  f_18    20 non-null     float64\n",
      " 18  f_19    20 non-null     float64\n",
      " 19  f_20    20 non-null     float64\n",
      " 20  f_21    20 non-null     float64\n",
      " 21  f_22    20 non-null     float64\n",
      " 22  f_23    20 non-null     int64  \n",
      " 23  f_24    20 non-null     float64\n",
      " 24  f_25    20 non-null     float64\n",
      " 25  f_26    20 non-null     float64\n",
      " 26  f_27    20 non-null     float64\n",
      " 27  f_28    20 non-null     float64\n",
      " 28  f_29    20 non-null     float64\n",
      " 29  f_30    20 non-null     float64\n",
      " 30  f_31    20 non-null     float64\n",
      " 31  f_32    20 non-null     float64\n",
      " 32  f_33    20 non-null     float64\n",
      " 33  f_34    20 non-null     float64\n",
      " 34  f_35    20 non-null     int64  \n",
      " 35  f_36    20 non-null     int64  \n",
      " 36  f_37    20 non-null     float64\n",
      " 37  f_38    20 non-null     float64\n",
      " 38  f_39    20 non-null     int64  \n",
      " 39  f_40    20 non-null     int64  \n",
      " 40  f_41    20 non-null     float64\n",
      " 41  f_42    20 non-null     float64\n",
      " 42  f_43    20 non-null     float64\n",
      " 43  f_44    20 non-null     float64\n",
      " 44  f_45    20 non-null     float64\n",
      " 45  f_46    20 non-null     int64  \n",
      " 46  f_47    20 non-null     float64\n",
      " 47  f_48    20 non-null     float64\n",
      " 48  f_49    20 non-null     float64\n",
      "dtypes: float64(39), int64(10)\n",
      "memory usage: 7.8 KB\n"
     ]
    }
   ],
   "source": [
    "test_df1.info()"
   ]
  },
  {
   "attachments": {},
   "cell_type": "markdown",
   "metadata": {},
   "source": [
    "Removing Highly correlated columns that we removed from training data"
   ]
  },
  {
   "cell_type": "code",
   "execution_count": 552,
   "metadata": {},
   "outputs": [],
   "source": [
    "test_df1.drop(['f_13', 'f_18', 'f_20', 'f_49', 'f_16', 'f_24', 'f_44', 'f_6', 'f_34', 'f_9', 'f_25', 'f_35', 'f_43', 'f_21', 'f_32', 'f_40', 'f_36'],axis=1,inplace= True)"
   ]
  },
  {
   "attachments": {},
   "cell_type": "markdown",
   "metadata": {},
   "source": [
    "Now lets use the model to predict the TArget variable and then we will compare"
   ]
  },
  {
   "cell_type": "code",
   "execution_count": 555,
   "metadata": {},
   "outputs": [
    {
     "name": "stderr",
     "output_type": "stream",
     "text": [
      "c:\\Users\\user\\anaconda3\\lib\\site-packages\\sklearn\\base.py:443: UserWarning: X has feature names, but DecisionTreeClassifier was fitted without feature names\n",
      "  warnings.warn(\n"
     ]
    },
    {
     "data": {
      "text/plain": [
       "array([0, 0, 0, 0, 0, 0, 0, 0, 0, 0, 0, 0, 0, 0, 0, 0, 0, 0, 0, 0],\n",
       "      dtype=int64)"
      ]
     },
     "execution_count": 555,
     "metadata": {},
     "output_type": "execute_result"
    }
   ],
   "source": [
    "Prediction = load_model.predict(test_df1)\n",
    "Prediction"
   ]
  },
  {
   "attachments": {},
   "cell_type": "markdown",
   "metadata": {},
   "source": [
    "COMPARE"
   ]
  },
  {
   "cell_type": "code",
   "execution_count": 565,
   "metadata": {},
   "outputs": [
    {
     "data": {
      "text/html": [
       "<div>\n",
       "<style scoped>\n",
       "    .dataframe tbody tr th:only-of-type {\n",
       "        vertical-align: middle;\n",
       "    }\n",
       "\n",
       "    .dataframe tbody tr th {\n",
       "        vertical-align: top;\n",
       "    }\n",
       "\n",
       "    .dataframe thead th {\n",
       "        text-align: right;\n",
       "    }\n",
       "</style>\n",
       "<table border=\"1\" class=\"dataframe\">\n",
       "  <thead>\n",
       "    <tr style=\"text-align: right;\">\n",
       "      <th></th>\n",
       "      <th>Original</th>\n",
       "      <th>Prediction</th>\n",
       "    </tr>\n",
       "  </thead>\n",
       "  <tbody>\n",
       "    <tr>\n",
       "      <th>0</th>\n",
       "      <td>0</td>\n",
       "      <td>0</td>\n",
       "    </tr>\n",
       "    <tr>\n",
       "      <th>1</th>\n",
       "      <td>0</td>\n",
       "      <td>0</td>\n",
       "    </tr>\n",
       "    <tr>\n",
       "      <th>2</th>\n",
       "      <td>0</td>\n",
       "      <td>0</td>\n",
       "    </tr>\n",
       "    <tr>\n",
       "      <th>3</th>\n",
       "      <td>0</td>\n",
       "      <td>0</td>\n",
       "    </tr>\n",
       "    <tr>\n",
       "      <th>4</th>\n",
       "      <td>0</td>\n",
       "      <td>0</td>\n",
       "    </tr>\n",
       "    <tr>\n",
       "      <th>5</th>\n",
       "      <td>0</td>\n",
       "      <td>0</td>\n",
       "    </tr>\n",
       "    <tr>\n",
       "      <th>6</th>\n",
       "      <td>0</td>\n",
       "      <td>0</td>\n",
       "    </tr>\n",
       "    <tr>\n",
       "      <th>7</th>\n",
       "      <td>0</td>\n",
       "      <td>0</td>\n",
       "    </tr>\n",
       "    <tr>\n",
       "      <th>8</th>\n",
       "      <td>0</td>\n",
       "      <td>0</td>\n",
       "    </tr>\n",
       "    <tr>\n",
       "      <th>9</th>\n",
       "      <td>0</td>\n",
       "      <td>0</td>\n",
       "    </tr>\n",
       "    <tr>\n",
       "      <th>10</th>\n",
       "      <td>0</td>\n",
       "      <td>0</td>\n",
       "    </tr>\n",
       "    <tr>\n",
       "      <th>11</th>\n",
       "      <td>0</td>\n",
       "      <td>0</td>\n",
       "    </tr>\n",
       "    <tr>\n",
       "      <th>12</th>\n",
       "      <td>0</td>\n",
       "      <td>0</td>\n",
       "    </tr>\n",
       "    <tr>\n",
       "      <th>13</th>\n",
       "      <td>0</td>\n",
       "      <td>0</td>\n",
       "    </tr>\n",
       "    <tr>\n",
       "      <th>14</th>\n",
       "      <td>1</td>\n",
       "      <td>0</td>\n",
       "    </tr>\n",
       "    <tr>\n",
       "      <th>15</th>\n",
       "      <td>0</td>\n",
       "      <td>0</td>\n",
       "    </tr>\n",
       "    <tr>\n",
       "      <th>16</th>\n",
       "      <td>0</td>\n",
       "      <td>0</td>\n",
       "    </tr>\n",
       "    <tr>\n",
       "      <th>17</th>\n",
       "      <td>0</td>\n",
       "      <td>0</td>\n",
       "    </tr>\n",
       "    <tr>\n",
       "      <th>18</th>\n",
       "      <td>0</td>\n",
       "      <td>0</td>\n",
       "    </tr>\n",
       "    <tr>\n",
       "      <th>19</th>\n",
       "      <td>0</td>\n",
       "      <td>0</td>\n",
       "    </tr>\n",
       "  </tbody>\n",
       "</table>\n",
       "</div>"
      ],
      "text/plain": [
       "    Original  Prediction\n",
       "0          0           0\n",
       "1          0           0\n",
       "2          0           0\n",
       "3          0           0\n",
       "4          0           0\n",
       "5          0           0\n",
       "6          0           0\n",
       "7          0           0\n",
       "8          0           0\n",
       "9          0           0\n",
       "10         0           0\n",
       "11         0           0\n",
       "12         0           0\n",
       "13         0           0\n",
       "14         1           0\n",
       "15         0           0\n",
       "16         0           0\n",
       "17         0           0\n",
       "18         0           0\n",
       "19         0           0"
      ]
     },
     "execution_count": 565,
     "metadata": {},
     "output_type": "execute_result"
    }
   ],
   "source": [
    "Compare = {'Original' : test_df['target'],\n",
    "                       'Prediction' : Prediction}\n",
    "\n",
    "Result = pd.DataFrame(Compare)\n",
    "Result"
   ]
  },
  {
   "attachments": {},
   "cell_type": "markdown",
   "metadata": {},
   "source": [
    "#### One Wrong Prediction at index 14"
   ]
  }
 ],
 "metadata": {
  "kernelspec": {
   "display_name": "base",
   "language": "python",
   "name": "python3"
  },
  "language_info": {
   "codemirror_mode": {
    "name": "ipython",
    "version": 3
   },
   "file_extension": ".py",
   "mimetype": "text/x-python",
   "name": "python",
   "nbconvert_exporter": "python",
   "pygments_lexer": "ipython3",
   "version": "3.9.13"
  },
  "orig_nbformat": 4
 },
 "nbformat": 4,
 "nbformat_minor": 2
}
